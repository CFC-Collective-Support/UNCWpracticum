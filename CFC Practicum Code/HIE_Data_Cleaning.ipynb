{
 "cells": [
  {
   "cell_type": "markdown",
   "metadata": {},
   "source": [
    "<font size=6>HIE Data Cleaning Code<br>Lauren T. Simmonds<br>lauren.t.simmonds@gmail.com<br>December 7, 2021"
   ]
  },
  {
   "cell_type": "code",
   "execution_count": 1,
   "metadata": {},
   "outputs": [],
   "source": [
    "import pandas as pd\n",
    "import numpy as np\n",
    "\n",
    "import boto3\n",
    "from sagemaker import get_execution_role\n",
    "\n",
    "from time import sleep\n",
    "import sys"
   ]
  },
  {
   "cell_type": "code",
   "execution_count": 2,
   "metadata": {},
   "outputs": [
    {
     "name": "stderr",
     "output_type": "stream",
     "text": [
      "C:\\Users\\Lauren\\anaconda3\\lib\\site-packages\\IPython\\core\\interactiveshell.py:3146: DtypeWarning: Columns (17) have mixed types.Specify dtype option on import or set low_memory=False.\n",
      "  has_raised = await self.run_ast_nodes(code_ast.body, cell_name,\n"
     ]
    }
   ],
   "source": [
    "role = get_execution_role()\n",
    "s3 = boto3.client(\"s3\")\n",
    "s3_resource = boto3.resource(\"s3\")\n",
    "\n",
    "bucket='hie-lts2429'\n",
    "data_key = '_SQL_query_combined.csv'\n",
    "data_location = 's3://{}/{}'.format(bucket, data_key)\n",
    "\n",
    "data = pd.read_csv(data_location)\n",
    "#data = pd.read_csv(\"_SQL_query_combined.csv\")"
   ]
  },
  {
   "cell_type": "code",
   "execution_count": 3,
   "metadata": {},
   "outputs": [
    {
     "data": {
      "text/plain": [
       "(38365875, 26)"
      ]
     },
     "execution_count": 3,
     "metadata": {},
     "output_type": "execute_result"
    }
   ],
   "source": [
    "data.shape"
   ]
  },
  {
   "cell_type": "code",
   "execution_count": 4,
   "metadata": {},
   "outputs": [
    {
     "data": {
      "text/html": [
       "<div>\n",
       "<style scoped>\n",
       "    .dataframe tbody tr th:only-of-type {\n",
       "        vertical-align: middle;\n",
       "    }\n",
       "\n",
       "    .dataframe tbody tr th {\n",
       "        vertical-align: top;\n",
       "    }\n",
       "\n",
       "    .dataframe thead th {\n",
       "        text-align: right;\n",
       "    }\n",
       "</style>\n",
       "<table border=\"1\" class=\"dataframe\">\n",
       "  <thead>\n",
       "    <tr style=\"text-align: right;\">\n",
       "      <th></th>\n",
       "      <th>patient_id</th>\n",
       "      <th>age</th>\n",
       "      <th>gender</th>\n",
       "      <th>race</th>\n",
       "      <th>ethnicity</th>\n",
       "      <th>language</th>\n",
       "      <th>encounter_id</th>\n",
       "      <th>encounter_class</th>\n",
       "      <th>admit_type</th>\n",
       "      <th>facility</th>\n",
       "      <th>admit_source</th>\n",
       "      <th>admit_date</th>\n",
       "      <th>discharge_date</th>\n",
       "      <th>disposition</th>\n",
       "      <th>discharge_notes</th>\n",
       "      <th>reason_for_visit</th>\n",
       "      <th>financial_class</th>\n",
       "      <th>vip_indicator</th>\n",
       "      <th>encounter_category</th>\n",
       "      <th>encounter_type</th>\n",
       "      <th>encounter_description</th>\n",
       "      <th>encounter_code</th>\n",
       "      <th>encounter_code_method</th>\n",
       "      <th>encounter_priority</th>\n",
       "      <th>file_number</th>\n",
       "      <th>tract_fips</th>\n",
       "    </tr>\n",
       "  </thead>\n",
       "  <tbody>\n",
       "    <tr>\n",
       "      <th>0</th>\n",
       "      <td>1</td>\n",
       "      <td>39</td>\n",
       "      <td>M</td>\n",
       "      <td>Unknown</td>\n",
       "      <td>Unknown</td>\n",
       "      <td>en</td>\n",
       "      <td>1072200</td>\n",
       "      <td>OUTPT HOSP</td>\n",
       "      <td>NaN</td>\n",
       "      <td>New Hanover Regional Medical Center</td>\n",
       "      <td>NaN</td>\n",
       "      <td>2014-04-22</td>\n",
       "      <td>NaN</td>\n",
       "      <td>NaN</td>\n",
       "      <td>NaN</td>\n",
       "      <td>NaN</td>\n",
       "      <td>NaN</td>\n",
       "      <td>NaN</td>\n",
       "      <td>Diagnosis</td>\n",
       "      <td>ADMIT</td>\n",
       "      <td>Calculus of ureter</td>\n",
       "      <td>592.1</td>\n",
       "      <td>ICD-9</td>\n",
       "      <td>NaN</td>\n",
       "      <td>1</td>\n",
       "      <td>3.712901e+10</td>\n",
       "    </tr>\n",
       "    <tr>\n",
       "      <th>1</th>\n",
       "      <td>1</td>\n",
       "      <td>39</td>\n",
       "      <td>M</td>\n",
       "      <td>Unknown</td>\n",
       "      <td>Unknown</td>\n",
       "      <td>en</td>\n",
       "      <td>1234180</td>\n",
       "      <td>EMERGENCY</td>\n",
       "      <td>Emergency</td>\n",
       "      <td>New Hanover Regional Medical Center</td>\n",
       "      <td>Non-Health Care Facility Point of*</td>\n",
       "      <td>2013-02-14</td>\n",
       "      <td>2013-02-15</td>\n",
       "      <td>A</td>\n",
       "      <td>ROUTINE/HOME</td>\n",
       "      <td>NaN</td>\n",
       "      <td>Blue Cross</td>\n",
       "      <td>NaN</td>\n",
       "      <td>Diagnosis</td>\n",
       "      <td>ADMIT</td>\n",
       "      <td>Sprain of neck</td>\n",
       "      <td>847.0</td>\n",
       "      <td>ICD-9</td>\n",
       "      <td>NaN</td>\n",
       "      <td>1</td>\n",
       "      <td>3.712901e+10</td>\n",
       "    </tr>\n",
       "    <tr>\n",
       "      <th>2</th>\n",
       "      <td>1</td>\n",
       "      <td>39</td>\n",
       "      <td>M</td>\n",
       "      <td>Unknown</td>\n",
       "      <td>Unknown</td>\n",
       "      <td>en</td>\n",
       "      <td>1234565</td>\n",
       "      <td>EMERGENCY</td>\n",
       "      <td>Emergency</td>\n",
       "      <td>New Hanover Regional Medical Center</td>\n",
       "      <td>Non-Health Care Facility Point of*</td>\n",
       "      <td>2013-07-10</td>\n",
       "      <td>2013-07-10</td>\n",
       "      <td>A</td>\n",
       "      <td>ROUTINE/HOME</td>\n",
       "      <td>NaN</td>\n",
       "      <td>Blue Cross</td>\n",
       "      <td>NaN</td>\n",
       "      <td>Diagnosis</td>\n",
       "      <td>ADMIT</td>\n",
       "      <td>Open wound(s) (multiple) of unspecified site(s...</td>\n",
       "      <td>879.8</td>\n",
       "      <td>ICD-9</td>\n",
       "      <td>NaN</td>\n",
       "      <td>1</td>\n",
       "      <td>3.712901e+10</td>\n",
       "    </tr>\n",
       "    <tr>\n",
       "      <th>3</th>\n",
       "      <td>1</td>\n",
       "      <td>39</td>\n",
       "      <td>M</td>\n",
       "      <td>Unknown</td>\n",
       "      <td>Unknown</td>\n",
       "      <td>en</td>\n",
       "      <td>1234584</td>\n",
       "      <td>EMERGENCY</td>\n",
       "      <td>Emergency</td>\n",
       "      <td>New Hanover Regional Medical Center</td>\n",
       "      <td>Non-Health Care Facility Point of*</td>\n",
       "      <td>2013-07-20</td>\n",
       "      <td>2013-07-20</td>\n",
       "      <td>A</td>\n",
       "      <td>ROUTINE/HOME</td>\n",
       "      <td>NaN</td>\n",
       "      <td>Blue Cross</td>\n",
       "      <td>NaN</td>\n",
       "      <td>Diagnosis</td>\n",
       "      <td>ADMIT</td>\n",
       "      <td>Suture / Staple Removal</td>\n",
       "      <td>105</td>\n",
       "      <td>Free Text</td>\n",
       "      <td>NaN</td>\n",
       "      <td>1</td>\n",
       "      <td>3.712901e+10</td>\n",
       "    </tr>\n",
       "    <tr>\n",
       "      <th>4</th>\n",
       "      <td>1</td>\n",
       "      <td>39</td>\n",
       "      <td>M</td>\n",
       "      <td>Unknown</td>\n",
       "      <td>Unknown</td>\n",
       "      <td>en</td>\n",
       "      <td>1235388</td>\n",
       "      <td>HOSP OUTPT SURGERY</td>\n",
       "      <td>Elective</td>\n",
       "      <td>New Hanover Regional Medical Center</td>\n",
       "      <td>PHYSICIAN REFERRAL</td>\n",
       "      <td>2014-04-15</td>\n",
       "      <td>2014-04-15</td>\n",
       "      <td>A</td>\n",
       "      <td>ROUTINE/HOME</td>\n",
       "      <td>NaN</td>\n",
       "      <td>Blue Cross</td>\n",
       "      <td>NaN</td>\n",
       "      <td>Diagnosis</td>\n",
       "      <td>ADMIT</td>\n",
       "      <td>NOT GIVEN</td>\n",
       "      <td>NaN</td>\n",
       "      <td>Free Text</td>\n",
       "      <td>NaN</td>\n",
       "      <td>1</td>\n",
       "      <td>3.712901e+10</td>\n",
       "    </tr>\n",
       "  </tbody>\n",
       "</table>\n",
       "</div>"
      ],
      "text/plain": [
       "   patient_id  age gender     race ethnicity language  encounter_id  \\\n",
       "0           1   39      M  Unknown   Unknown       en       1072200   \n",
       "1           1   39      M  Unknown   Unknown       en       1234180   \n",
       "2           1   39      M  Unknown   Unknown       en       1234565   \n",
       "3           1   39      M  Unknown   Unknown       en       1234584   \n",
       "4           1   39      M  Unknown   Unknown       en       1235388   \n",
       "\n",
       "      encounter_class admit_type                             facility  \\\n",
       "0          OUTPT HOSP        NaN  New Hanover Regional Medical Center   \n",
       "1           EMERGENCY  Emergency  New Hanover Regional Medical Center   \n",
       "2           EMERGENCY  Emergency  New Hanover Regional Medical Center   \n",
       "3           EMERGENCY  Emergency  New Hanover Regional Medical Center   \n",
       "4  HOSP OUTPT SURGERY   Elective  New Hanover Regional Medical Center   \n",
       "\n",
       "                         admit_source  admit_date discharge_date disposition  \\\n",
       "0                                 NaN  2014-04-22            NaN         NaN   \n",
       "1  Non-Health Care Facility Point of*  2013-02-14     2013-02-15           A   \n",
       "2  Non-Health Care Facility Point of*  2013-07-10     2013-07-10           A   \n",
       "3  Non-Health Care Facility Point of*  2013-07-20     2013-07-20           A   \n",
       "4                  PHYSICIAN REFERRAL  2014-04-15     2014-04-15           A   \n",
       "\n",
       "  discharge_notes reason_for_visit financial_class vip_indicator  \\\n",
       "0             NaN              NaN             NaN           NaN   \n",
       "1    ROUTINE/HOME              NaN      Blue Cross           NaN   \n",
       "2    ROUTINE/HOME              NaN      Blue Cross           NaN   \n",
       "3    ROUTINE/HOME              NaN      Blue Cross           NaN   \n",
       "4    ROUTINE/HOME              NaN      Blue Cross           NaN   \n",
       "\n",
       "  encounter_category encounter_type  \\\n",
       "0          Diagnosis          ADMIT   \n",
       "1          Diagnosis          ADMIT   \n",
       "2          Diagnosis          ADMIT   \n",
       "3          Diagnosis          ADMIT   \n",
       "4          Diagnosis          ADMIT   \n",
       "\n",
       "                               encounter_description encounter_code  \\\n",
       "0                                 Calculus of ureter          592.1   \n",
       "1                                     Sprain of neck          847.0   \n",
       "2  Open wound(s) (multiple) of unspecified site(s...          879.8   \n",
       "3                            Suture / Staple Removal            105   \n",
       "4                                          NOT GIVEN            NaN   \n",
       "\n",
       "  encounter_code_method  encounter_priority  file_number    tract_fips  \n",
       "0                 ICD-9                 NaN            1  3.712901e+10  \n",
       "1                 ICD-9                 NaN            1  3.712901e+10  \n",
       "2                 ICD-9                 NaN            1  3.712901e+10  \n",
       "3             Free Text                 NaN            1  3.712901e+10  \n",
       "4             Free Text                 NaN            1  3.712901e+10  "
      ]
     },
     "execution_count": 4,
     "metadata": {},
     "output_type": "execute_result"
    }
   ],
   "source": [
    "pd.options.display.max_columns = None\n",
    "data.head()"
   ]
  },
  {
   "cell_type": "code",
   "execution_count": 5,
   "metadata": {},
   "outputs": [
    {
     "name": "stdout",
     "output_type": "stream",
     "text": [
      "<class 'pandas.core.frame.DataFrame'>\n",
      "RangeIndex: 38365875 entries, 0 to 38365874\n",
      "Data columns (total 26 columns):\n",
      " #   Column                 Dtype  \n",
      "---  ------                 -----  \n",
      " 0   patient_id             int64  \n",
      " 1   age                    int64  \n",
      " 2   gender                 object \n",
      " 3   race                   object \n",
      " 4   ethnicity              object \n",
      " 5   language               object \n",
      " 6   encounter_id           int64  \n",
      " 7   encounter_class        object \n",
      " 8   admit_type             object \n",
      " 9   facility               object \n",
      " 10  admit_source           object \n",
      " 11  admit_date             object \n",
      " 12  discharge_date         object \n",
      " 13  disposition            object \n",
      " 14  discharge_notes        object \n",
      " 15  reason_for_visit       object \n",
      " 16  financial_class        object \n",
      " 17  vip_indicator          object \n",
      " 18  encounter_category     object \n",
      " 19  encounter_type         object \n",
      " 20  encounter_description  object \n",
      " 21  encounter_code         object \n",
      " 22  encounter_code_method  object \n",
      " 23  encounter_priority     float64\n",
      " 24  file_number            int64  \n",
      " 25  tract_fips             float64\n",
      "dtypes: float64(2), int64(4), object(20)\n",
      "memory usage: 7.4+ GB\n"
     ]
    }
   ],
   "source": [
    "data.info()"
   ]
  },
  {
   "cell_type": "code",
   "execution_count": 6,
   "metadata": {},
   "outputs": [],
   "source": [
    "# The maximum string length of each column\n",
    "\n",
    "lengths_full = []\n",
    "for col in data:\n",
    "    lengths_full.append((col, data[col].astype(str).str.len().unique().max()))"
   ]
  },
  {
   "cell_type": "code",
   "execution_count": 7,
   "metadata": {},
   "outputs": [
    {
     "data": {
      "text/plain": [
       "[('patient_id', 7),\n",
       " ('age', 3),\n",
       " ('gender', 16),\n",
       " ('race', 41),\n",
       " ('ethnicity', 26),\n",
       " ('language', 7),\n",
       " ('encounter_id', 8),\n",
       " ('encounter_class', 28),\n",
       " ('admit_type', 25),\n",
       " ('facility', 38),\n",
       " ('admit_source', 45),\n",
       " ('admit_date', 10),\n",
       " ('discharge_date', 10),\n",
       " ('disposition', 92),\n",
       " ('discharge_notes', 100),\n",
       " ('reason_for_visit', 50),\n",
       " ('financial_class', 46),\n",
       " ('vip_indicator', 24),\n",
       " ('encounter_category', 9),\n",
       " ('encounter_type', 7),\n",
       " ('encounter_description', 300),\n",
       " ('encounter_code', 17),\n",
       " ('encounter_code_method', 9),\n",
       " ('encounter_priority', 4),\n",
       " ('file_number', 2),\n",
       " ('tract_fips', 13)]"
      ]
     },
     "execution_count": 7,
     "metadata": {},
     "output_type": "execute_result"
    }
   ],
   "source": [
    "lengths_full"
   ]
  },
  {
   "cell_type": "code",
   "execution_count": 8,
   "metadata": {},
   "outputs": [
    {
     "name": "stdout",
     "output_type": "stream",
     "text": [
      "patient_id [     1      2      3 ... 599998 599999 600000]\n",
      "age [ 39  66  47  30  56  55  67  37  68  36  73  49  54  71  62  69  72  76\n",
      "  64  51  95  61  59  65  86  81  42  34  60 100  78  77  79  70  80  35\n",
      "  45  84   7  44  19  83  85  58  53  25  27  20  57  50  31  74  90  52\n",
      "  21  94  38  29  75  22  23  48  18  92  87  46  26  16  17  98  14  63\n",
      "  82  43  99  40  33  41  10  93  88  91  89  28  15  13   6 103   5  32\n",
      "   4  12  11  24  96  97   9   8 102 105 101 107 106 120 121 108 109 104\n",
      " 113 111   3 135   2 110 180 112 117 118 119 127 131 114 128 115 122 137\n",
      " 124 187 141 123 221 140 139   1 164 142 126 129 130 116 171 125 133 136\n",
      " 147 144 138 148 146 132 162   0 151 -57 -39]\n",
      "gender ['M' 'F' 'Female' 'Male' 'UNK' 'MALE' 'UN' 'Undifferentiated' 'FEMALE'\n",
      " 'UNKNOWN' 'Unknown' 'N']\n",
      "race ['Unknown' 'Asian' 'White' nan 'American Indian Or Alaska Native'\n",
      " 'White or Caucasian' 'Black Or African American'\n",
      " 'Black or African American' 'American Indian or Alaska Native'\n",
      " 'BI-RACIAL' 'Other Race' 'BLACK' 'WHITE' 'OTHER' 'AFRICAN AM'\n",
      " 'American Indian or Alaskan Native'\n",
      " 'Native Hawaiian or Other Pacific Islander'\n",
      " 'Native Hawaiian Or Other Pacific Islander' 'UNKNOWN' 'ASIAN'\n",
      " 'Caucasian or White' 'American Indian'\n",
      " 'Native Hawaiian or other Pacific Islander' 'Caucasian'\n",
      " 'American Indian or Native American' 'CAUCASIAN' 'INDIAN'\n",
      " 'AFRICAN AMERICAN' 'I^INDIAN^99TRA' 'U^UNKNOWN^99TRA'\n",
      " 'Native Hawaiian or Pacific Islander' '8' 'AMERCA IND'\n",
      " 'UNAVAILABLE/DECLINED' 'African American'\n",
      " 'Middle Eastern or North African' 'Black' 'Other Pacific Islander'\n",
      " 'OTHER RACE' '5^CAUCASIAN^99TRA' '1^AMERCA IND^99TRA' 'Alaska Native'\n",
      " '6^OTHER RACE^99TRA' 'European' 'Unavailable or Patient decline'\n",
      " 'Native Hawaiian or Pacific ISL' 'D' 'HISPANIC' 'AMERICAN INDIAN'\n",
      " 'W^WHITE^99TRA' 'PT DECLINE' '3^BLACK^99TRA' 'B^BLACK^99TRA'\n",
      " 'A^ASIAN^99TRA' 'A' 'H^HISPANIC^99TRA' 'HAWAIIAN' 'U~O' '2^ASIAN^99TRA'\n",
      " 'I~O' 'PATIENT REFUSED' '6~3' '3~1' 'I~B' '1~O' 'PAC IS/HI' 'Arab']\n",
      "ethnicity ['Unknown' 'Not Hispanic or Latino' 'Not Hispanic Or Latino' nan\n",
      " 'Hispanic Or Latino' 'Hispanic or Latino' 'NON-HISPANIC'\n",
      " 'Patient Refused' 'Hispanic/Latino' 'Non-Hispanic' 'Hispanic'\n",
      " 'non hispanic' 'HISPANIC' 'PT DECLINED OR UNAVAILABLE'\n",
      " 'Declined to Specify' 'ENGLISH' 'hispanic' 'unknown' 'WHITE' 'UNKNOWN'\n",
      " 'U']\n",
      "language ['en' 'UNK' nan 'eng' 'EN' 'es' 'SP' 'AOF' 'spa' 'OT' 'ie' 'af' 'ENGLISH'\n",
      " 'zh' 'it' 'pt' 'ar' 'fr' 'et' 'vi' 'bg' 'km' 'BR' 'br' 'und' 'ht' 'ja'\n",
      " 'SPANISH' 'el' 'ko' 'ru' 'E' 'th' 'hi' 'UN' 'KO' 'AR' 'FR' 'phi' 'GU'\n",
      " 'CI' 'UR' 'VI' 'IT' 'SO' 'TA' 'TH' 'PR' 'RU' 'JA' 'PO' 'SW' 'GE' 'HE'\n",
      " 'HI' 'HM' 'de' 'dv' 'ur' 'pl' 'cs' 'so' 'gu' 'sw' 'nl' 'sgn' 'tr' 'fa'\n",
      " 'grc' 'lo' 'yi' 'he' 'sr' 'ro' 'nai' 'tl' 'id' 'uk' 'da' 'fo' 'ee' 'eo'\n",
      " 'haw' 'pa' 'ug' 'sg' 'ENG' 'sv' 'ne']\n",
      "encounter_id [ 1072200  1234180  1234565 ... 24512868 27899431 11919752]\n",
      "encounter_class ['OUTPT HOSP' 'EMERGENCY' 'HOSP OUTPT SURGERY' 'OUTPATIENT' 'NOT GIVEN'\n",
      " 'Outpatient' 'INPATIENT' 'Emergency' 'IMAGE CNTR' 'Outpatient Diagnostic'\n",
      " 'Inpatient' 'SPECIMEN' 'Hospital Outpatient Surgery'\n",
      " 'EMERGENCY ROOM/OBSERVATION' 'EXTENDED RECOVERY' 'Outpatient/Ambulatory'\n",
      " 'ASU' 'REHAB OP' 'OBSERVATIO' 'Observation' 'CANCER CTR'\n",
      " 'Oncology Series 30 Days' 'I' 'THERAPIES SERIES' 'Outpatient Series'\n",
      " 'CATH/EP PROC' 'Specimen' 'BORDER PSYCH' 'RECURRING' 'MINOR EMR'\n",
      " 'LABORATORY' 'EMS REFUSL' 'Therapies Series' 'EMS' 'HOSPICE'\n",
      " 'INFUSION SERIES' 'NEWBORN' 'Infusion Series' 'Extended Recovery'\n",
      " 'PREADMIT' 'Surgery Admit' 'AMBSURGERY' 'Cath/EP Procedures'\n",
      " 'NURSING HOME' 'FAST TRACK' 'R' 'SNF INPATIENT' 'CAP/Medicaid'\n",
      " 'Radiation Onc Series 90 Days' 'DOSHER MEDICAL ASSOCIATES'\n",
      " 'EMERGENCY ROOM' 'URGENT CARE SE MEDICAL MALL' 'OBSVR. PAT'\n",
      " 'SWING INPATIENT' 'Hospice' 'RO' 'Boarder Psychiatric' 'EXT RECVRY'\n",
      " 'HOME HEALTH' 'DIABETIC' 'PSYCHIATRY' 'BEH. SC.' 'SURGERY ADMIT'\n",
      " 'HEALTHY FOR LIVING' 'NICU/TN NB' 'CAP MCAID' 'Home Health' 'WH PROF SV'\n",
      " 'OUTPTSRVS' 'ST PAULS' 'SRMCFP' 'BACKLD/OUT' 'SDS' 'O'\n",
      " 'Extended Diagnostic' 'A' 'EV' 'WELLNESS' 'OCCUPHEALT' 'CAP' 'SNF'\n",
      " 'PRIV PLUS' 'FMONT MED' 'NICU' 'EXTENDED DIAGNOSTIC' 'Newborn'\n",
      " 'DECEASED ORGAN DONOR' 'SA' 'OPSU' 'Swing Inpatient' 'HOS' 'CL' 'BP'\n",
      " 'SNF Inpatient' '1']\n",
      "admit_type [nan 'Emergency' 'Elective' 'Outpatient' 'Inpatient' 'EMERGENCY'\n",
      " 'ELECTIVE' 'DR. REFER' '3' 'Urgent' '1' 'DR REFER' '2'\n",
      " 'Information Not Available' 'URGENT' 'Newborn' 'NEWBORN' 'TR' 'IN'\n",
      " 'COMMITTED' 'Y' 'Unknown' 'TRAUMA' '4' 'SNF/ICF' '9' 'ACUTE HOSP' 'HMO'\n",
      " 'READMISSIO' '5']\n",
      "facility ['New Hanover Regional Medical Center' 'Wilmington Health Practices'\n",
      " 'Carolina Sports Medicine' 'CCHIE Practices' 'Delaney Radiologists'\n",
      " 'Wilmington Gastroenterology Associates'\n",
      " 'Southeastern Regional Medical Center' 'NHRMC Physician Group'\n",
      " 'Dosher Memorial Hospital' 'Liberty Home Health'\n",
      " 'Point Click Care Practices' 'Onslow Memorial Hospital'\n",
      " 'Pender Memorial Hospital' 'Pender County Health Department'\n",
      " 'Solstas Lab Partners' 'Wilmington Health Access for Teens'\n",
      " 'Robeson Healthcare Corp' 'Diagnostic Imaging Partners'\n",
      " 'Sampson Regional Medical Center' 'Liberty Commons Nursing Centre-LLTC'\n",
      " 'Brunswick County Health Department' 'Columbus County Health Department'\n",
      " 'Onslow County Health Department']\n",
      "admit_source [nan 'Non-Health Care Facility Point of*' 'PHYSICIAN REFERRAL'\n",
      " 'HOME/PHYS OFF/WORKPLACE' 'Not available'\n",
      " 'Transfer from a hospital (different facility)' 'Clinic Referral'\n",
      " 'Information not available' 'Transfer from Hospital (Different*'\n",
      " 'WALK-IN' '12' 'Q' 'Information Unavailable' 'Physician Referral' 'S'\n",
      " 'TRANSFER FROM SNF' 'EMERGENCY ROOM' 'Born Inside this Hospital'\n",
      " 'A Ambulatory Surgery Center' 'NORMAL DELIVERY'\n",
      " 'Transfer from SNF or Intermediate*' 'DIRECT PHYS OFF/OTHER FAC'\n",
      " 'Emergency Room' 'Psych, Substance Abuse, or Rehab*'\n",
      " 'Transfer from Skilled Nursing Facility' 'CHE' 'COURT/LAW ENFORCEMENT'\n",
      " 'Court/Law Enforcement' '9 Hospice'\n",
      " 'Transfer from another healthcare facility'\n",
      " 'Transfer from a Skilled Nursing Facility' '103'\n",
      " '6 - Transfer from Another Health Center' 'Premature Delivery'\n",
      " '4 Born Outside this Hospital' 'OTHER RESCUE DIRECT ADMIT'\n",
      " 'INFO NOT AVAILABLE' 'J' 'TRAN FROM HOSP/EXTRAMURAL'\n",
      " 'TRANSFER FRM ACUTE CARE HOSP' '100' '11' 'SICK BABY'\n",
      " '2 - Clinic Referral' 'Transfer From A Skilled Nursing Facility' '106'\n",
      " 'TRANSFER NOT ACUTE/SNF' 'Transfer From A Hospital'\n",
      " 'Transfer from a hospital' '3 - HMO Referral' 'HMO Referral' '10'\n",
      " 'BABY BORN INSIDE THE HOSP' '104' '101' '102' 'TR' 'SF' 'O'\n",
      " 'BABY BORN OUTSIDE THE HSP' 'NORMAL NEWBORN' 'Sick Baby'\n",
      " 'LAW ENFOURCEMENT' 'PRIVILEDGE PLUS +' 'TRF FRM HOSPICE&UNDER PLA']\n",
      "admit_date ['2014-04-22' '2013-02-14' '2013-07-10' ... '2002-11-29' '1992-08-24'\n",
      " '1985-06-05']\n",
      "discharge_date [nan '2013-02-15' '2013-07-10' ... '2002-11-29' '1997-06-04' '1999-04-11']\n",
      "disposition [nan 'A' 'AOF' 'L' 'H' 'R' '20 Expired' 'HOM' 'B' '1' '0' 'D' '5' 'P' 'C'\n",
      " '01 Discharged to home or self care' '7'\n",
      " '05 Discharged / Transferred to another type of institution' 'LWB' 'SNF'\n",
      " 'AMA' 'X' '4' '02 Discharged / Transferred to Hospital'\n",
      " '06 Discharged / Transferred to home under care of organized home health service organization'\n",
      " 'N' '62' '03 Discharged / Transferred to SNF' 'LWS' 'XPH' 'CAR' 'XIR'\n",
      " 'AOB' 'S' '3' '6' 'DMH' 'VID' 'HHS' 'OTH' 'NHR' 'LWBS' 'ELO' '2'\n",
      " '20 Expired (or did not recover - Christian Science Patient)'\n",
      " '04 Discharged / Transferred to an ICF' 'AIP' 'XLA' 'G' 'I' 'E' '51' '20'\n",
      " '50' '63' 'VA' 'EGWOA' '70' '90' '99' '65' 'J' 'STH' 'NHRMC' 'VIDANT'\n",
      " '82' 'CHA' 'HHSASSIST' '43' 'HOMEANF' 'HOMESNF' 'EGW' '50 Hospice - home'\n",
      " 'HOMEDAVITA' '07 Left against medical advice, or discontinued care' '83'\n",
      " 'LWT' 'LTC' 'CAROLINA' 'F' 'HOSM' 'HOS' 'ICF'\n",
      " '51 Hospice - medical facility' 'DUK' 'CD' '89' 'AOBS' '85' '9' '30' '98'\n",
      " '81' 'LWD' '96' '92' '80' 'LABORCHECK' '93' '84' '94' '8'\n",
      " '63 Discharged/Transferred to long term care hospital' '87' 'DUKE'\n",
      " 'CHAPELHILL' 'LAB' 'TERTIARY' 'NAV' 'XFH' 'ELWOA' 'XLAW'\n",
      " '20 Expired at home (hospice claims only)'\n",
      " '65 Discharged/Transferred to a Psychiatric Hospital'\n",
      " '66 Discharged/transferred to a Critical Access Hospital (CAH)' 'O' 'XNF'\n",
      " 'NAVAL' 'XCAN' '61']\n",
      "discharge_notes [nan 'ROUTINE/HOME' 'M' 'LEAVE BEFORE SEEN-ED' 'T' 'HOME'\n",
      " 'ROUTINE DISCHARGE' 'Expired' 'Discharged Home/Self-Care'\n",
      " 'HOME HEALTH AGENCY' 'G' 'Y' 'REHAB HOSP' '100' 'TF/DC TO PSYCH HOSP'\n",
      " 'SNF' 'TF/DC TO REHAB FACIL' '9' 'L' 'HOSPICE FACILITY' '2'\n",
      " 'HOME HEALTH CARE' '1002' 'F' '1001' 'RTN' '7 - Against Medical Advice'\n",
      " 'Discharged/Transferred To Designated Cancer Center Or Children’s Hospital'\n",
      " 'Left Against Medical Advice' 'AGAINST MED ADVICE'\n",
      " 'Discharged/Transferred To SNF' 'HOSPITAL'\n",
      " '4 - Intermediate Care Facility' 'I'\n",
      " '70 Discharged/transferred to another Type of Health Care Institution not Defined Elsewhere in this C'\n",
      " 'Discharged/Transferred To Short-Term General Hospital For Inpatient Care'\n",
      " '7' 'Discharged To Home Health' 'ANOTHER FACILITY'\n",
      " '62 - Inpatient Rehab Facility'\n",
      " '02 Discharged / Transferred to another hospital'\n",
      " '118 - Left Without Being Seen'\n",
      " 'Discharged/Transferred To Psychiatric Facility' '1' 'REHAB'\n",
      " 'Discharged/Transferred To Inpatient Rehab (IRF)'\n",
      " 'Still Patient Or Expected To Return For Outpatient Services'\n",
      " 'HOME HEALTH' 'LEFT WITHOUT BEING SEEN BY DOCTOR' 'EXP WITH AUTOPSY -48'\n",
      " 'OTHER ACUTE CARE HOS' 'STL' '119 - Discharged to Medical Home' 'Unknown'\n",
      " 'WOO' 'E' '3' 'INTERMED. CARE FACIL' '101' 'AMA' '1009'\n",
      " '2 - Other Acute General Hospital' 'CAP' 'H' '4' '6'\n",
      " 'Discharged / Transferred to an ICF' '64' '102' 'Therapeutic Leave'\n",
      " 'In Patient' 'DIS' '1013' 'Admitted As An Inpatient To This Hospital'\n",
      " '200' '1025' '1019' 'PSCHYC'\n",
      " 'Discharged/Transferred To Court/Law Enforcement' 'COURT/LAW ENFORCEMEN'\n",
      " 'SKILLED NURSING FACILITY' 'EXPIRED' 'HOSPICE-HOME'\n",
      " '51 - Hospice - Medical Facility' '20 - Expired' '50 - Hospice - Home'\n",
      " '63 - Long Term Acute Care Hospital' 'PSYCH.HOSPITAL'\n",
      " 'Discharge/Tranferred To Federal Hospital/VA'\n",
      " '20 Expired in a medical facility,(Hospice claims only)' 'LIGHTHOUSE'\n",
      " 'LONG TERM CARE HOSP.' 'W' '70 - Other Health Institution'\n",
      " '111 - Rehab Facility/Unit w Planned Readmission'\n",
      " '99 - System Discharged' '65 - Psychiatric Hospital/Unit' 'PRE'\n",
      " 'HOSPICE-MEDICAL FAC.' 'KEN' 'Nursing home' 'TER' 'FED.HOSP.(VA-WOMACK)'\n",
      " '103 - Short Term Hospital w Planned Readmission' 'CANCER/CHILDREN HOSP'\n",
      " 'Unpaid Leave' 'SWING BED' 'ELW' 'FACILITY' 'LIBERTYICF'\n",
      " '43 - VA Federal Hospital' '?' 'LIG' 'Discharge To Hospice - Home'\n",
      " 'WOODBURY' '40' 'DAV' 'LIB' '104 - SNF w Planned Readmission'\n",
      " '91 - Treatment Initiated - LWBS'\n",
      " 'Discharged/Transferred To Long Term Care Hospital (LTCH)' '01'\n",
      " 'HOPICE FACILITY' 'Discharge To Hospice - Medical Facility' 'CARRIVERS'\n",
      " 'LAW ENFORCEMENT'\n",
      " 'Discharged/Transferred To Facility That Provides Custodial/Supportive Care (ICF)'\n",
      " 'Acute care hospital' 'LBT' 'PAT' '92 - Chemical Dep Center/Detox' '5'\n",
      " 'PREMIERJAX' '110 - Swing Bed w Planned Readmission' 'HER' 'PRU' 'ONS'\n",
      " 'DSC' 'Hospital Leave' '106 - Canc/child hosp w Planned Readmission'\n",
      " 'EXP -48 HRS' '30 - Still A Patient' '98 - Police Custody/Jail' 'K' '41'\n",
      " '102 - Home-Self care w Planned Readmission' 'HA' 'N'\n",
      " '90 - Left Without Discharge Instructions'\n",
      " '41 Expired in a medical facility, such as a hospital, SNF, ICF or freestanding hospice (Hospice clai'\n",
      " '66' \"96 - Children's Hospital\" 'V'\n",
      " '113 - Nursg Fac-Medicaid Cert w Planned Readmission' 'STILL PATIENT-LOA'\n",
      " '116 - Oth Institution w Planned Readmission'\n",
      " '114 - Psych Hosp/Unit w Planned Readmission' 'BAY'\n",
      " '105 - Cust/supp care w Planned readmission'\n",
      " '115 - Crit Acc Hosp w Planned Readmission' 'POST-OP. DEATH'\n",
      " '108 - Court/law enfrc w Planned Readmission' 'DAVIS' 'BRI' 'SUR' 'KIN'\n",
      " 'ONSLOW' 'Discharged/Transferred To Federal Hospital/VA' '1018' 'XCA'\n",
      " 'ALZ' 'WAK' '1024' 'CRY' 'CRO' 'HAR'\n",
      " 'Discharged/Tranferred To Court/Law Enforcement' 'NOR' 'BRO' 'HERITAGE'\n",
      " 'CRYSTALBL' 'KENANSVILL' 'Home' 'Expired at home (hospice claims only)'\n",
      " 'SNU' 'Private home/apt. with no home health services' 'REX'\n",
      " 'Discharged/Transferred To Critical Access Hospital (CAH)'\n",
      " 'Assisted Living w/HH \\\\T\\\\ RPM Lead' '1021' '1011'\n",
      " 'Private home with Hospice Services' '1026' 'Independent Living' '1017'\n",
      " 'Board and care/assisted living/group home' '1014'\n",
      " '61 Discharged / Transferred to Hospital Based Swing Bed'\n",
      " 'CAH (BLADEN CO.HOSP)' '8' '1027' '1015' 'LIBERTYSNF' '1022' '1016' 'LAU'\n",
      " 'BAYVIEW' 'RIV'\n",
      " 'Discharged/Transferred To Medicaid Certified Only Nursing Facility'\n",
      " 'Discharged/Transferred To Designated Cancer Center or Children’s Hospital'\n",
      " 'BRIAN' '61 - Medicare Swing Bed - Same Facility']\n",
      "reason_for_visit [nan 'PT STS PAIN IN LEFT TESTICAL' 'PT STS CAT BITE' ...\n",
      " 'FEVER/EAR ACHE/SORE THROAT'\n",
      " 'sent from SE Womens Health/blood transfusion'\n",
      " 'CHEST X-RAY//CHEST CONJESTION//DIMINISHED LUNG SOU']\n"
     ]
    },
    {
     "name": "stdout",
     "output_type": "stream",
     "text": [
      "financial_class [nan 'Blue Cross' 'Other' 'Commercial' 'Medicare' \"Veteran's Affairs\"\n",
      " 'Medicaid' 'SELF' 'Tricare/Champus' \"Workers' Compensation\" 'Self-pay'\n",
      " 'BCBS' 'O' 'State Health Plan' 'TCE' 'Institutional' 'Self-Pay' 'CARE'\n",
      " 'WC' 'MCRE ADV' 'Hospice' 'COMM' 'HUMANA MEDICARE OP'\n",
      " 'Medicare Health Maintenance Organization (HMO)' 'Medicare HMO'\n",
      " 'Veterans Affairs' 'Liability' \"Worker's Compensation\" 'PRIVATE PAY'\n",
      " 'UNITED HEALTHCARE OP' 'Blue Cross-Out of State' 'AARP OP'\n",
      " 'UNITED HEALTHCARE MEDICARE' 'CAID' 'BLUE MEDICARE OP'\n",
      " 'AETNA US HEALTHCARE OP' 'TPL OP' 'LIABILITY' 'CB' 'C50' 'C32' 'C'\n",
      " 'AETNA MEDICARE OPEN OP' 'V' 'SBE' 'GBR' 'CIGNA OP' 'PL' 'BBD'\n",
      " 'BLUE MEDICARE IP' 'MBX' 'HUMANA OP' 'MBP'\n",
      " 'UNITED HEALTHCARE MEDICARE I/P' 'GBV' 'CBY' 'CBI'\n",
      " 'UNITED MEDICAL RESOURCES OP' 'MBK' \"Veterans' Affairs\" 'XBN' 'XBU'\n",
      " 'NC HEALTH CHOICE' 'MEDCOST OP' 'AETNA US HEALTHCARE IP' 'PNH'\n",
      " 'BRUNS CO HD/BCCCP' 'CT' 'HUMANA MEDICARE IP' 'Unknown' 'OT STATE' 'C34'\n",
      " 'CB1' 'MCD MGD CARE' 'HOSP' 'F' 'DBC' 'XBV' 'NALC CIGNA'\n",
      " 'UNITED HEALTHCARE IP' 'USAA LIFE IP' 'CVA' 'POT' 'Commercail' 'CW' 'U'\n",
      " 'MUTUAL OF OMAHA OP' 'GL' 'XBO' 'PRIVATE PAY THERAPY' 'APWU CIGNA'\n",
      " 'MEDICARE & MEDICAID' 'GBT' 'MBV' 'OTHER' 'MF' 'C17'\n",
      " 'Medicare Health Maintenance Organization' 'UNITED MEDICAL RESOURCES IP'\n",
      " 'CB9' 'BBG' 'C09' 'CIGNA IP' 'CB2'\n",
      " 'Preferred Provider Organization (PPO)' 'Tricare.Champus'\n",
      " 'UNITED HEALTHCARE CLINIC' 'W' 'T' 'CBX' 'D' 'SPONS AG' 'GBN' 'MBO'\n",
      " 'FIN COUNSEL' 'DBD' 'GBM' 'GBH' 'FAC BILL' 'AETNA CLINIC' 'CIGNA CLINIC'\n",
      " 'GBS' 'ASSURANT HEALTH OP' 'GOLDEN RULE OP' 'GHI OP' 'COVENTRY OP'\n",
      " 'MEDCOST CLINIC' 'CB8' 'GBU' 'XPV' 'WELLPATH OP' '*' '=' '+' '\\\\F\\\\'\n",
      " 'Medicaid Out-of-State' 'MCAID SC' 'MEDCOST IP' 'C55' 'POMCO OP' 'C20'\n",
      " 'MAIL HANDLERS OP' 'C46' 'CBT' 'CORESOURCE OP' 'UNICARE MEDICARE IP'\n",
      " 'CBS' 'GEHA WELLPATH COVENTRY' 'TPL THERAPY'\n",
      " 'MIDWEST LIFE - INS CENTER OP' 'C18' 'CIGNA MEDICARE ACCESS'\n",
      " 'UNICARE MEDICARE OP' 'CB6' 'MEDICAL MUTUAL OF OHIO OP' 'GBX' 'CB4'\n",
      " 'UNITED AMERICAN INS OP' 'C38' 'XBS' 'C37' 'CBP' 'C25'\n",
      " 'AMERICAS 1ST CHOICE IP' 'C26' 'BEMC COOPERATIVE BENEFIT ADM INC OP'\n",
      " 'CBU' 'XBM' 'C21' 'CBG' 'MBM' 'C52' 'C10' 'UNICARE OP' 'BANKERS LIFE OP'\n",
      " 'AMERICAS 1ST CHOICE OP' 'ASSURANT HEALTH IP' 'C33'\n",
      " 'NC HEALTH CHOICE CLINIC' 'AARP IP' 'MVP CARE/USA CARE MEDICARE OP'\n",
      " 'MVP CARE/USA CARE MEDICARE IP' 'MPV' 'COVENTRY IP' 'C02'\n",
      " 'PYRAMID MEDICARE OP' 'C54' 'MIDWEST LIFE - INS CENTER IP' 'GB1'\n",
      " 'NC BAPTIST ASSEMBLY OP' 'GOLDEN RULE IP']\n",
      "vip_indicator [nan 'Restricted' 'VIP' 'Normal' 'EMPLOYEE & EMP.  RELATED'\n",
      " 'PHYSICIAN & PHY RELATED' 'PREFERRED PLUS']\n",
      "encounter_category ['Diagnosis' 'Procedure' nan]\n",
      "encounter_type ['ADMIT' 'W' nan 'WORKING' 'AOF' 'AD' 'FINAL' 'A' 'Final' 'F' 'Working'\n",
      " 'S']\n",
      "encounter_description ['Calculus of ureter' 'Sprain of neck'\n",
      " 'Open wound(s) (multiple) of unspecified site(s), w' ...\n",
      " 'FEVER/EAR ACHE/SORE THROAT' 'sent from SE Womens Health/blood transfu'\n",
      " 'CHEST X-RAY//CHEST CONJESTION//DIMINISHE']\n",
      "encounter_code ['592.1' '847.0' '879.8' ... '^CP ABD' '^resp.' '^GREASE']\n",
      "encounter_code_method ['ICD-9' 'Free Text' 'ICD-10' 'CPT' nan 'ICD9' 'I10' 'FF' 'CP' 'C4' 'I1'\n",
      " 'H' 'I9']\n",
      "encounter_priority [nan  0.  2.  1. 12. 20. 17. 11. 19.  4.  6. 13. 10.  9.  8.  3. 14.  7.\n",
      " 16.  5. 18. 15. 29. 24. 23. 22. 21. 27. 28. 25.]\n",
      "file_number [ 1 10 11 13 15 16 17 18 19  2 20 21  3  4  5  6  7  8  9]\n",
      "tract_fips [3.71290115e+10 3.71039201e+10 3.71290116e+10 ... 5.10150701e+10\n",
      " 5.11579501e+10 5.10270103e+10]\n"
     ]
    }
   ],
   "source": [
    "# All unique values for each column\n",
    "\n",
    "for col in data:\n",
    "    print(col, data[col].unique())"
   ]
  },
  {
   "cell_type": "code",
   "execution_count": 9,
   "metadata": {},
   "outputs": [],
   "source": [
    "# Change column to datetime\n",
    "data[\"admit_date_mod\"] = pd.to_datetime(data.admit_date, infer_datetime_format=True)"
   ]
  },
  {
   "cell_type": "code",
   "execution_count": 10,
   "metadata": {},
   "outputs": [
    {
     "data": {
      "text/plain": [
       "array([-57, -39,   0,   1,   2,   3,   4,   5,   6,   7,   8,   9,  10,\n",
       "        11,  12,  13,  14,  15,  16,  17,  18,  19,  20,  21,  22,  23,\n",
       "        24,  25,  26,  27,  28,  29,  30,  31,  32,  33,  34,  35,  36,\n",
       "        37,  38,  39,  40,  41,  42,  43,  44,  45,  46,  47,  48,  49,\n",
       "        50,  51,  52,  53,  54,  55,  56,  57,  58,  59,  60,  61,  62,\n",
       "        63,  64,  65,  66,  67,  68,  69,  70,  71,  72,  73,  74,  75,\n",
       "        76,  77,  78,  79,  80,  81,  82,  83,  84,  85,  86,  87,  88,\n",
       "        89,  90,  91,  92,  93,  94,  95,  96,  97,  98,  99, 100, 101,\n",
       "       102, 103, 104, 105, 106, 107, 108, 109, 110, 111, 112, 113, 114,\n",
       "       115, 116, 117, 118, 119, 120, 121, 122, 123, 124, 125, 126, 127,\n",
       "       128, 129, 130, 131, 132, 133, 135, 136, 137, 138, 139, 140, 141,\n",
       "       142, 144, 146, 147, 148, 151, 162, 164, 171, 180, 187, 221],\n",
       "      dtype=int64)"
      ]
     },
     "execution_count": 10,
     "metadata": {},
     "output_type": "execute_result"
    }
   ],
   "source": [
    "# Examime ages\n",
    "\n",
    "age = data.age.sort_values().unique()\n",
    "age"
   ]
  },
  {
   "cell_type": "markdown",
   "metadata": {},
   "source": [
    "<font size=7>Creation of cleaned columns for categorical features"
   ]
  },
  {
   "cell_type": "markdown",
   "metadata": {},
   "source": [
    "<font size=7>Gender"
   ]
  },
  {
   "cell_type": "code",
   "execution_count": 11,
   "metadata": {},
   "outputs": [
    {
     "data": {
      "text/plain": [
       "12"
      ]
     },
     "execution_count": 11,
     "metadata": {},
     "output_type": "execute_result"
    }
   ],
   "source": [
    "data.gender.nunique()"
   ]
  },
  {
   "cell_type": "code",
   "execution_count": 12,
   "metadata": {},
   "outputs": [],
   "source": [
    "data[\"gender_mod\"] = np.nan"
   ]
  },
  {
   "cell_type": "code",
   "execution_count": 13,
   "metadata": {},
   "outputs": [],
   "source": [
    "data.loc[(data.gender == \"Female\") | (data.gender == \"FEMALE\") | (data.gender == \"F\"), \"gender_mod\"] = \"FEMALE\"\n",
    "\n",
    "data.loc[(data.gender == \"Male\") | (data.gender == \"MALE\") | (data.gender == \"M\"), \"gender_mod\"] = \"MALE\"\n",
    "\n",
    "data.loc[(data.gender == \"UNK\") | (data.gender == \"UN\") | (data.gender == \"N\") | (data.gender == \"UNKNOWN\") | \n",
    "         (data.gender == \"Unknown\") | (data.gender == \"Undifferentiated\"), \"gender_mod\"] = \"UNKNOWN\""
   ]
  },
  {
   "cell_type": "code",
   "execution_count": 14,
   "metadata": {},
   "outputs": [
    {
     "data": {
      "text/plain": [
       "array(['MALE', 'FEMALE', 'UNKNOWN'], dtype=object)"
      ]
     },
     "execution_count": 14,
     "metadata": {},
     "output_type": "execute_result"
    }
   ],
   "source": [
    "data.gender_mod.unique()"
   ]
  },
  {
   "cell_type": "markdown",
   "metadata": {},
   "source": [
    "<font size=7>Race"
   ]
  },
  {
   "cell_type": "code",
   "execution_count": 15,
   "metadata": {},
   "outputs": [
    {
     "data": {
      "text/plain": [
       "66"
      ]
     },
     "execution_count": 15,
     "metadata": {},
     "output_type": "execute_result"
    }
   ],
   "source": [
    "data.race.nunique()"
   ]
  },
  {
   "cell_type": "code",
   "execution_count": 16,
   "metadata": {},
   "outputs": [],
   "source": [
    "data[\"race_mod\"] = np.nan"
   ]
  },
  {
   "cell_type": "code",
   "execution_count": 17,
   "metadata": {},
   "outputs": [],
   "source": [
    "data.loc[(data.race == \"White\") | (data.race == \"WHITE\") | (data.race == \"White or Caucasian\") | \n",
    "              (data.race == \"Caucasian or White\") | (data.race == \"Caucasian\") |\n",
    "              (data.race == \"CAUCASIAN\") | (data.race == \"5^CAUCASIAN^99TRA\") |\n",
    "              (data.race == \"W^WHITE^99TRA\") | (data.race == \"European\"), \"race_mod\"] = \"WHITE\"\n",
    "\n",
    "data.loc[(data.race == \"Asian\") | (data.race == \"ASIAN\") | (data.race == \"A^ASIAN^99TRA\") | \n",
    "              (data.race == \"2^ASIAN^99TRA\"), \"race_mod\"] = \"ASIAN\"\n",
    "\n",
    "data.loc[(data.race == \"Black Or African American\") | (data.race == \"Black or African American\") | \n",
    "              (data.race == \"BLACK\") | (data.race == \"AFRICAN AM\") | (data.race == \"AFRICAN AMERICAN\") |\n",
    "              (data.race == \"African American\") | (data.race == \"Black\") |\n",
    "              (data.race == \"3^BLACK^99TRA\") | (data.race == \"B^BLACK^99TRA\"), \"race_mod\"] = \"BLACK\"\n",
    "\n",
    "data.loc[(data.race == \"Unknown\") | (data.race == \"UNKNOWN\") | (data.race == \"U^UNKNOWN^99TRA\") | \n",
    "              (data.race == \"UNAVAILABLE/DECLINED\") | (data.race == \"Unavailable or Patient decline\") |\n",
    "              (data.race == \"PATIENT REFUSED\") | (data.race == \"PT DECLINE\") | \n",
    "              (data.race.isnull()), \"race_mod\"] = \"UNKNOWN\"\n",
    "\n",
    "data.loc[(data.race == \"Other Race\") | (data.race == \"OTHER\") | (data.race == \"OTHER RACE\") | \n",
    "              (data.race == \"6^OTHER RACE^99TRA\") | (data.race == \"BI-RACIAL\"), \"race_mod\"] = \"OTHER\"\n",
    "\n",
    "data.loc[(data.race == \"American Indian Or Alaska Native\") | (data.race == \"American Indian or Alaska Native\") | \n",
    "              (data.race == \"American Indian or Alaskan Native\") | (data.race == \"American Indian\") | \n",
    "              (data.race == \"American Indian or Native American\") | (data.race == \"1^AMERCA IND^99TRA\") | \n",
    "              (data.race == \"Alaska Native\") | (data.race == \"AMERICAN INDIAN\") | (data.race == \"AMERCA IND\") | \n",
    "              (data.race == \"INDIAN\") | (data.race == \"I^INDIAN^99TRA\") , \"race_mod\"] = \"NATIVE_AMERICAN\"\n",
    "\n",
    "data.loc[(data.race == \"Native Hawaiian or Other Pacific Islander\") | (data.race == \"Native Hawaiian Or Other Pacific Islander\") | \n",
    "              (data.race == \"Native Hawaiian or other Pacific Islander\") | (data.race == \"Native Hawaiian or Pacific Islander\") | \n",
    "              (data.race == \"Other Pacific Islander\") | (data.race == \"Native Hawaiian or Pacific ISL\") | \n",
    "              (data.race == \"HAWAIIAN\") | (data.race == \"PAC IS/HI\"), \"race_mod\"] = \"PACIFIC_ISLANDER\"\n",
    "\n",
    "data.loc[(data.race == \"HISPANIC\") | (data.race == \"H^HISPANIC^99TRA\"), \"race_mod\"] = \"HISPANIC\"\n",
    "\n",
    "data.loc[(data.race == \"Middle Eastern or North African\") | (data.race == \"8\") | (data.race == \"D\") | (data.race == \"A\") | \n",
    "         (data.race == \"U~O\") | (data.race == \"I~O\") | (data.race == \"6~3\") | (data.race == \"3~1\") | (data.race == \"I~B\") | \n",
    "         (data.race == \"1~O\") | (data.race == \"Arab\"), \"race_mod\"] = \"UNDETERMINED\""
   ]
  },
  {
   "cell_type": "code",
   "execution_count": 18,
   "metadata": {},
   "outputs": [
    {
     "data": {
      "text/plain": [
       "array(['UNKNOWN', 'ASIAN', 'WHITE', 'NATIVE_AMERICAN', 'BLACK', 'OTHER',\n",
       "       'PACIFIC_ISLANDER', 'UNDETERMINED', 'HISPANIC'], dtype=object)"
      ]
     },
     "execution_count": 18,
     "metadata": {},
     "output_type": "execute_result"
    }
   ],
   "source": [
    "data.race_mod.unique()"
   ]
  },
  {
   "cell_type": "markdown",
   "metadata": {},
   "source": [
    "<font size=7>Ethnicity"
   ]
  },
  {
   "cell_type": "code",
   "execution_count": 19,
   "metadata": {},
   "outputs": [
    {
     "data": {
      "text/plain": [
       "20"
      ]
     },
     "execution_count": 19,
     "metadata": {},
     "output_type": "execute_result"
    }
   ],
   "source": [
    "data.ethnicity.nunique()"
   ]
  },
  {
   "cell_type": "code",
   "execution_count": 20,
   "metadata": {},
   "outputs": [],
   "source": [
    "data[\"ethnicity_mod\"] = np.nan"
   ]
  },
  {
   "cell_type": "code",
   "execution_count": 21,
   "metadata": {},
   "outputs": [],
   "source": [
    "data.loc[(data.ethnicity == \"Hispanic Or Latino\") | (data.ethnicity == \"Hispanic or Latino\") | \n",
    "         (data.ethnicity == \"Hispanic/Latino\") | (data.ethnicity == \"Hispanic\") | \n",
    "         (data.ethnicity == \"HISPANIC\") | (data.ethnicity == \"hispanic\"), \"ethnicity_mod\"] = \"HISPANIC\"\n",
    "\n",
    "data.loc[(data.ethnicity == \"Not Hispanic or Latino\") | (data.ethnicity == \"Not Hispanic Or Latino\") | \n",
    "         (data.ethnicity == \"NON-HISPANIC\") | (data.ethnicity == \"Non-Hispanic\") | \n",
    "         (data.ethnicity == \"non hispanic\"), \"ethnicity_mod\"] = \"NOT_HISPANIC\"\n",
    "\n",
    "data.loc[(data.ethnicity == \"Unknown\") | (data.ethnicity == \"Patient Refused\") | \n",
    "         (data.ethnicity == \"PT DECLINED OR UNAVAILABLE\") | (data.ethnicity == \"Declined to Specify\") | \n",
    "         (data.ethnicity == \"ENGLISH\") | (data.ethnicity == \"unknown\") | (data.ethnicity == \"WHITE\") | \n",
    "         (data.ethnicity == \"UNKNOWN\") | (data.ethnicity == \"U\") | data.ethnicity.isnull(), \"ethnicity_mod\"] = \"UNKNOWN\""
   ]
  },
  {
   "cell_type": "code",
   "execution_count": 22,
   "metadata": {},
   "outputs": [
    {
     "data": {
      "text/plain": [
       "array(['UNKNOWN', 'NOT_HISPANIC', 'HISPANIC'], dtype=object)"
      ]
     },
     "execution_count": 22,
     "metadata": {},
     "output_type": "execute_result"
    }
   ],
   "source": [
    "data.ethnicity_mod.unique()"
   ]
  },
  {
   "cell_type": "markdown",
   "metadata": {},
   "source": [
    "<font size=7>Language"
   ]
  },
  {
   "cell_type": "code",
   "execution_count": 23,
   "metadata": {},
   "outputs": [
    {
     "data": {
      "text/plain": [
       "88"
      ]
     },
     "execution_count": 23,
     "metadata": {},
     "output_type": "execute_result"
    }
   ],
   "source": [
    "data.language.nunique()"
   ]
  },
  {
   "cell_type": "code",
   "execution_count": 24,
   "metadata": {},
   "outputs": [],
   "source": [
    "data[\"language_mod\"] = np.nan"
   ]
  },
  {
   "cell_type": "code",
   "execution_count": 25,
   "metadata": {},
   "outputs": [],
   "source": [
    "#1\n",
    "data.loc[(data.language == \"en\") | (data.language == \"eng\") | \n",
    "         (data.language == \"EN\") | (data.language == \"ENGLISH\") | \n",
    "         (data.language == \"ENG\"), \"language_mod\"] = \"ENGLISH\"\n",
    "#2\n",
    "data.loc[(data.language == \"es\") | (data.language == \"SP\") | \n",
    "         (data.language == \"spa\") | (data.language == \"SPANISH\"), \"language_mod\"] = \"SPANISH\"\n",
    "#3\n",
    "data.loc[(data.language == \"UNK\") | (data.language == \"UN\") | (data.language == \"und\") | \n",
    "         (data.language.isnull()), \"language_mod\"] = \"UNKNOWN\"\n",
    "#4\n",
    "data.loc[(data.language == \"fr\") | (data.language == \"FR\"), \"language_mod\"] = \"FRENCH\"\n",
    "#5\n",
    "data.loc[(data.language == \"br\") | (data.language == \"BR\") | (data.language == \"pt\") | \n",
    "         (data.language == \"pr\") | (data.language == \"PR\"), \"language_mod\"] = \"PORTUGUESE\"\n",
    "#6\n",
    "data.loc[(data.language == \"ru\") | (data.language == \"RU\"), \"language_mod\"] = \"RUSSIAN\"\n",
    "#7\n",
    "data.loc[(data.language == \"ko\") | (data.language == \"KO\"), \"language_mod\"] = \"KOREAN\"\n",
    "#8\n",
    "data.loc[(data.language == \"ja\") | (data.language == \"JA\"), \"language_mod\"] = \"JAPANESE\"\n",
    "#9\n",
    "data.loc[(data.language == \"it\") | (data.language == \"IT\"), \"language_mod\"] = \"ITALIAN\"\n",
    "#10\n",
    "data.loc[(data.language == \"sw\") | (data.language == \"SW\"), \"language_mod\"] = \"SWAHILI\"\n",
    "#11\n",
    "data.loc[(data.language == \"de\") | (data.language == \"GE\"), \"language_mod\"] = \"GERMAN\"\n",
    "#12\n",
    "data.loc[(data.language == \"he\") | (data.language == \"HE\") | (data.language == \"yi\"), \"language_mod\"] = \"HEBREW_YIDDISH\"\n",
    "#13\n",
    "data.loc[(data.language == \"th\") | (data.language == \"TH\"), \"language_mod\"] = \"THAI\"\n",
    "#14\n",
    "data.loc[(data.language == \"ur\") | (data.language == \"UR\"), \"language_mod\"] = \"URDU\"\n",
    "#15\n",
    "data.loc[(data.language == \"gu\") | (data.language == \"GU\") | (data.language == \"HI\") | (data.language == \"hi\") | \n",
    "         (data.language == \"pa\"), \"language_mod\"] = \"HINDI_GUJARATI_PUNJABI\"\n",
    "#16\n",
    "data.loc[(data.language == \"SO\") | (data.language == \"so\"), \"language_mod\"] = \"SOMALI\"\n",
    "#17\n",
    "data.loc[(data.language == \"ar\") | (data.language == \"AR\"), \"language_mod\"] = \"ARABIC\"\n",
    "#18\n",
    "data.loc[(data.language == \"zh\"), \"language_mod\"] = \"CHINESE\"\n",
    "#19\n",
    "data.loc[(data.language == \"bg\"), \"language_mod\"] = \"BULGARIAN\"\n",
    "#20\n",
    "data.loc[(data.language == \"VI\") | (data.language == \"vi\"), \"language_mod\"] = \"VIETNAMESE\"\n",
    "#21\n",
    "data.loc[(data.language == \"fa\"), \"language_mod\"] = \"PERSIAN\"\n",
    "#22\n",
    "data.loc[(data.language == \"tr\") | (data.language == \"ug\"), \"language_mod\"] = \"TURKISH_UIGHUR\"\n",
    "#23\n",
    "data.loc[(data.language == \"uk\"), \"language_mod\"] = \"UKRANIAN\"\n",
    "#24\n",
    "data.loc[(data.language == \"af\"), \"language_mod\"] = \"AFRIKAANS\"\n",
    "#25\n",
    "data.loc[(data.language == \"km\"), \"language_mod\"] = \"KHMER\"\n",
    "#26\n",
    "data.loc[(data.language == \"ie\"), \"language_mod\"] = \"INTERLINGUE\"\n",
    "#27\n",
    "data.loc[(data.language == \"et\"), \"language_mod\"] = \"ESTONIAN\"\n",
    "#28\n",
    "data.loc[(data.language == \"el\") | (data.language == \"grc\"), \"language_mod\"] = \"GREEK\"\n",
    "#29\n",
    "data.loc[(data.language == \"ht\"), \"language_mod\"] = \"HAITIAN\"\n",
    "#30\n",
    "data.loc[(data.language == \"TA\"), \"language_mod\"] = \"TAMIL\"\n",
    "#31\n",
    "data.loc[(data.language == \"pl\"), \"language_mod\"] = \"POLISH\"\n",
    "#32\n",
    "data.loc[(data.language == \"dv\"), \"language_mod\"] = \"DIHEVI\"\n",
    "#33\n",
    "data.loc[(data.language == \"cs\"), \"language_mod\"] = \"CZECH\"\n",
    "#34\n",
    "data.loc[(data.language == \"nl\"), \"language_mod\"] = \"DUTCH\"\n",
    "#35\n",
    "data.loc[(data.language == \"lo\"), \"language_mod\"] = \"LAO\"\n",
    "#36\n",
    "data.loc[(data.language == \"sr\"), \"language_mod\"] = \"SERBIAN\"\n",
    "#37\n",
    "data.loc[(data.language == \"ro\"), \"language_mod\"] = \"ROMANIAN\"\n",
    "#38\n",
    "data.loc[(data.language == \"tl\"), \"language_mod\"] = \"TAGALOG\"\n",
    "#39\n",
    "data.loc[(data.language == \"id\"), \"language_mod\"] = \"INDONESIAN\"\n",
    "#40\n",
    "data.loc[(data.language == \"da\"), \"language_mod\"] = \"DANISH\"\n",
    "#41\n",
    "data.loc[(data.language == \"ee\"), \"language_mod\"] = \"EWE\"\n",
    "#42\n",
    "data.loc[(data.language == \"eo\"), \"language_mod\"] = \"ESPERANTO\"\n",
    "#43\n",
    "data.loc[(data.language == \"fo\"), \"language_mod\"] = \"FAROESE\"\n",
    "#44\n",
    "data.loc[(data.language == \"sg\"), \"language_mod\"] = \"SANGO\"\n",
    "#45\n",
    "data.loc[(data.language == \"sv\"), \"language_mod\"] = \"SWEDISH\"\n",
    "#46\n",
    "data.loc[(data.language == \"ne\"), \"language_mod\"] = \"NEPALI\"\n",
    "#47\n",
    "data.loc[(data.language == \"AOF\") | (data.language == \"OT\") | (data.language == \"E\") | (data.language == \"phi\") | \n",
    "         (data.language == \"CI\") | (data.language == \"PO\") | (data.language == \"HM\") | (data.language == \"sgn\") | \n",
    "         (data.language == \"nai\") | (data.language == \"haw\"), \"language_mod\"] = \"UNDETERMINED\""
   ]
  },
  {
   "cell_type": "code",
   "execution_count": 26,
   "metadata": {},
   "outputs": [
    {
     "data": {
      "text/plain": [
       "array(['ENGLISH', 'UNKNOWN', 'SPANISH', 'UNDETERMINED', 'INTERLINGUE',\n",
       "       'AFRIKAANS', 'CHINESE', 'ITALIAN', 'PORTUGUESE', 'ARABIC',\n",
       "       'FRENCH', 'ESTONIAN', 'VIETNAMESE', 'BULGARIAN', 'KHMER',\n",
       "       'HAITIAN', 'JAPANESE', 'GREEK', 'KOREAN', 'RUSSIAN', 'THAI',\n",
       "       'HINDI_GUJARATI_PUNJABI', 'URDU', 'SOMALI', 'TAMIL', 'SWAHILI',\n",
       "       'GERMAN', 'HEBREW_YIDDISH', 'DIHEVI', 'POLISH', 'CZECH', 'DUTCH',\n",
       "       'TURKISH_UIGHUR', 'PERSIAN', 'LAO', 'SERBIAN', 'ROMANIAN',\n",
       "       'TAGALOG', 'INDONESIAN', 'UKRANIAN', 'DANISH', 'FAROESE', 'EWE',\n",
       "       'ESPERANTO', 'SANGO', 'SWEDISH', 'NEPALI'], dtype=object)"
      ]
     },
     "execution_count": 26,
     "metadata": {},
     "output_type": "execute_result"
    }
   ],
   "source": [
    "data.language_mod.unique()"
   ]
  },
  {
   "cell_type": "markdown",
   "metadata": {},
   "source": [
    "<font size=7>Encounter Class"
   ]
  },
  {
   "cell_type": "code",
   "execution_count": 27,
   "metadata": {},
   "outputs": [
    {
     "data": {
      "text/plain": [
       "95"
      ]
     },
     "execution_count": 27,
     "metadata": {},
     "output_type": "execute_result"
    }
   ],
   "source": [
    "data.encounter_class.nunique()"
   ]
  },
  {
   "cell_type": "code",
   "execution_count": 28,
   "metadata": {},
   "outputs": [],
   "source": [
    "data[\"encounter_class_mod\"] = np.nan"
   ]
  },
  {
   "cell_type": "code",
   "execution_count": 29,
   "metadata": {},
   "outputs": [],
   "source": [
    "data.loc[(data.encounter_class == \"EMERGENCY\") | (data.encounter_class == \"Emergency\") |\n",
    "         (data.encounter_class == \"EMERGENCY ROOM\") | (data.encounter_class == \"EMS\") | \n",
    "         (data.encounter_class == \"EMS REFUSL\") | (data.encounter_class == \"EMERGENCY ROOM/OBSERVATION\") | \n",
    "         (data.encounter_class == \"PREADMIT\") | (data.encounter_class == \"FAST TRACK\"), \"encounter_class_mod\"] = \"EMERGENCY\"\n",
    "\n",
    "data.loc[(data.encounter_class == \"INPATIENT\") | (data.encounter_class == \"Inpatient\") | \n",
    "         (data.encounter_class == \"SWING INPATIENT\") | (data.encounter_class == \"I\")  | \n",
    "         (data.encounter_class == \"Swing Inpatient\"), \"encounter_class_mod\"] = \"INPATIENT\"\n",
    "\n",
    "data.loc[(data.encounter_class == \"OUTPATIENT\") | (data.encounter_class == \"OUTPT HOSP\") |\n",
    "         (data.encounter_class == \"HOSP OUTPT SURGERY\") | (data.encounter_class == \"Outpatient Diagnostic\") |\n",
    "         (data.encounter_class == \"Hospital Outpatient Surgery\") | (data.encounter_class == \"Outpatient/Ambulatory\") | \n",
    "         (data.encounter_class == \"OPSU\") | (data.encounter_class == \"Outpatient\") | \n",
    "         (data.encounter_class == \"OUTPTSRVS\") | (data.encounter_class == \"O\") | \n",
    "         (data.encounter_class == \"BACKLD/OUT\"), \"encounter_class_mod\"] = \"OUTPATIENT\"\n",
    "\n",
    "data.loc[(data.encounter_class == \"CANCER CTR\") | (data.encounter_class == \"Oncology Series 30 Days\") | \n",
    "         (data.encounter_class == \"THERAPIES SERIES\") | (data.encounter_class == \"Therapies Series\") |\n",
    "         (data.encounter_class == \"INFUSION SERIES\") | (data.encounter_class == \"Infusion Series\") |\n",
    "         (data.encounter_class == \"Radiation Onc Series 90 Days\") | (data.encounter_class == \"Outpatient Series\")  | \n",
    "         (data.encounter_class == \"REHAB OP\"), \"encounter_class_mod\"] = \"CANCER_CARE\"\n",
    "\n",
    "data.loc[(data.encounter_class == \"EXTENDED RECOVERY\") | (data.encounter_class == \"Extended Recovery\") | \n",
    "         (data.encounter_class == \"EXT RECVRY\"), \"encounter_class_mod\"] = \"EXTENDED_RECOVERY\"\n",
    "\n",
    "data.loc[(data.encounter_class == \"SNF Inpatient\") | (data.encounter_class == \"SNF INPATIENT\") | \n",
    "         (data.encounter_class == \"SNF\") | (data.encounter_class == \"NURSING HOME\"), \n",
    "         \"encounter_class_mod\"] = \"NURSING_FACILITY\"\n",
    "\n",
    "data.loc[(data.encounter_class == \"OBSERVATIO\") | (data.encounter_class == \"Observation\") | \n",
    "         (data.encounter_class == \"OBSVR. PAT\"), \"encounter_class_mod\"] = \"OBSERVATION\"\n",
    "\n",
    "data.loc[(data.encounter_class == \"NEWBORN\") | (data.encounter_class == \"Newborn\") | (data.encounter_class == \"NICU/TN NB\") | \n",
    "         (data.encounter_class == \"NICU\"), \"encounter_class_mod\"] = \"NEONATAL\"\n",
    "\n",
    "data.loc[(data.encounter_class == \"BORDER PSYCH\") | (data.encounter_class == \"Boarder Psychiatric\") | \n",
    "         (data.encounter_class == \"PSYCHIATRY\") | (data.encounter_class == \"BEH. SC.\") |\n",
    "         (data.encounter_class == \"BP\"), \"encounter_class_mod\"] = \"PSYCH\"\n",
    "\n",
    "data.loc[(data.encounter_class == \"Surgery Admit\") | (data.encounter_class == \"SURGERY ADMIT\") | \n",
    "         (data.encounter_class == \"AMBSURGERY\") | (data.encounter_class == \"SA\") |\n",
    "         (data.encounter_class == \"SDS\") | (data.encounter_class == \"ASU\"), \"encounter_class_mod\"] = \"SURGERY\"\n",
    "\n",
    "data.loc[(data.encounter_class == \"Extended Diagnostic\") | (data.encounter_class == \"EXTENDED DIAGNOSTIC\") | \n",
    "         (data.encounter_class == \"IMAGE CNTR\"), \"encounter_class_mod\"] = \"EXTENDED_DIAGNOSTIC\"\n",
    "\n",
    "data.loc[(data.encounter_class == \"HOME HEALTH\") | (data.encounter_class == \"Home Health\"), \n",
    "         \"encounter_class_mod\"] = \"HOME_HEALTH\"\n",
    "\n",
    "data.loc[(data.encounter_class == \"SPECIMEN\") | (data.encounter_class == \"Specimen\") |  (data.encounter_class == \"LABORATORY\"),\n",
    "         \"encounter_class_mod\"] = \"SPECIMEN\"\n",
    "\n",
    "data.loc[(data.encounter_class == \"HOSPICE\") | (data.encounter_class == \"Hospice\") | (data.encounter_class == \"HOS\"),\n",
    "         \"encounter_class_mod\"] = \"HOSPICE\"\n",
    "\n",
    "data.loc[(data.encounter_class == \"HEALTHY FOR LIVING\") | (data.encounter_class == \"WELLNESS\") | \n",
    "         (data.encounter_class == \"OCCUPHEALT\"), \"encounter_class_mod\"] = \"GENERAL_WELLNESS\"\n",
    "\n",
    "data.loc[(data.encounter_class == \"CAP\") | (data.encounter_class == \"CAP/Medicaid\") | \n",
    "         (data.encounter_class == \"CAP MCAID\"), \"encounter_class_mod\"] = \"COMMUNITY_ALTERNATIVES_PROGRAM\"\n",
    "\n",
    "data.loc[(data.encounter_class == \"DOSHER MEDICAL ASSOCIATES\") | (data.encounter_class == \"ST PAULS\") | \n",
    "         (data.encounter_class == \"URGENT CARE SE MEDICAL MALL\"), \n",
    "         \"encounter_class_mod\"] = \"FACILITIES\"\n",
    "\n",
    "data.loc[(data.encounter_class == \"CATH/EP PROC\") | (data.encounter_class == \"Cath/EP Procedures\"), \n",
    "         \"encounter_class_mod\"] = \"CATH_EP\"\n",
    "\n",
    "data.loc[(data.encounter_class == \"PRIV PLUS\") | (data.encounter_class == \"FMONT MED\") | \n",
    "         (data.encounter_class == \"WH PROF SV\") | (data.encounter_class == \"MINOR EMR\") | \n",
    "         (data.encounter_class == \"SRMCFP\"), \"encounter_class_mod\"] = \"SRMC_NETWORK\"\n",
    "\n",
    "data.loc[(data.encounter_class == \"DECEASED ORGAN DONOR\") | (data.encounter_class == \"DIABETIC\") | \n",
    "         (data.encounter_class == \"RECURRING\"), \"encounter_class_mod\"] = \"OTHER\"\n",
    "\n",
    "data.loc[(data.encounter_class == \"NOT GIVEN\"), \"encounter_class_mod\"] = \"UNKNOWN\"\n",
    "\n",
    "data.loc[(data.encounter_class == \"1\") | (data.encounter_class == \"CL\") | (data.encounter_class == \"R\") | \n",
    "         (data.encounter_class == \"RO\") | (data.encounter_class == \"A\") | (data.encounter_class == \"EV\"), \n",
    "         \"encounter_class_mod\"] = \"UNDETERMINED\""
   ]
  },
  {
   "cell_type": "code",
   "execution_count": 30,
   "metadata": {},
   "outputs": [
    {
     "data": {
      "text/plain": [
       "array(['OUTPATIENT', 'EMERGENCY', 'UNKNOWN', 'INPATIENT',\n",
       "       'EXTENDED_DIAGNOSTIC', 'SPECIMEN', 'EXTENDED_RECOVERY', 'SURGERY',\n",
       "       'CANCER_CARE', 'OBSERVATION', 'CATH_EP', 'PSYCH', 'OTHER',\n",
       "       'SRMC_NETWORK', 'HOSPICE', 'NEONATAL', 'NURSING_FACILITY',\n",
       "       'UNDETERMINED', 'COMMUNITY_ALTERNATIVES_PROGRAM', 'FACILITIES',\n",
       "       'HOME_HEALTH', 'GENERAL_WELLNESS'], dtype=object)"
      ]
     },
     "execution_count": 30,
     "metadata": {},
     "output_type": "execute_result"
    }
   ],
   "source": [
    "data.encounter_class_mod.unique()"
   ]
  },
  {
   "cell_type": "markdown",
   "metadata": {},
   "source": [
    "<font size=7>Admit Type"
   ]
  },
  {
   "cell_type": "code",
   "execution_count": 31,
   "metadata": {},
   "outputs": [
    {
     "data": {
      "text/plain": [
       "array([nan, 'Emergency', 'Elective', 'Outpatient', 'Inpatient',\n",
       "       'EMERGENCY', 'ELECTIVE', 'DR. REFER', '3', 'Urgent', '1',\n",
       "       'DR REFER', '2', 'Information Not Available', 'URGENT', 'Newborn',\n",
       "       'NEWBORN', 'TR', 'IN', 'COMMITTED', 'Y', 'Unknown', 'TRAUMA', '4',\n",
       "       'SNF/ICF', '9', 'ACUTE HOSP', 'HMO', 'READMISSIO', '5'],\n",
       "      dtype=object)"
      ]
     },
     "execution_count": 31,
     "metadata": {},
     "output_type": "execute_result"
    }
   ],
   "source": [
    "data.admit_type.unique()"
   ]
  },
  {
   "cell_type": "code",
   "execution_count": 32,
   "metadata": {},
   "outputs": [],
   "source": [
    "data[\"admit_type_mod\"] = np.nan"
   ]
  },
  {
   "cell_type": "code",
   "execution_count": 33,
   "metadata": {},
   "outputs": [],
   "source": [
    "data.loc[(data.admit_type == \"Emergency\") | (data.admit_type == \"EMERGENCY\") | (data.admit_type == \"URGENT\") | \n",
    "         (data.admit_type == \"Urgent\") | (data.admit_type == \"ACUTE HOSP\") | \n",
    "         (data.admit_type == \"TRAUMA\") | (data.admit_type == \"TR\"), \"admit_type_mod\"] = \"EMERGENCY\"\n",
    "\n",
    "data.loc[(data.admit_type == \"Elective\") | (data.admit_type == \"ELECTIVE\"), \"admit_type_mod\"] = \"ELECTIVE\"\n",
    "\n",
    "data.loc[(data.admit_type == \"Newborn\") | (data.admit_type == \"NEWBORN\"), \"admit_type_mod\"] = \"NEWBORN\"\n",
    "\n",
    "data.loc[(data.admit_type == \"DR. REFER\") | (data.admit_type == \"DR REFER\") | \n",
    "         (data.admit_type == \"HMO\"), \"admit_type_mod\"] = \"DOCTOR_REFERAL\"\n",
    "\n",
    "data.loc[(data.admit_type == \"1\") | (data.admit_type == \"2\") | (data.admit_type == \"3\") | (data.admit_type == \"4\") | \n",
    "         (data.admit_type == \"5\"), \"admit_type_mod\"] = \"TRIAGE\"\n",
    "\n",
    "data.loc[(data.admit_type == \"Inpatient\") | (data.admit_type == \"IN\") | (data.admit_type == \"COMMITTED\") | \n",
    "         (data.admit_type == \"READMISSIO\"),  \"admit_type_mod\"] = \"INPATIENT\"\n",
    "\n",
    "data.loc[(data.admit_type == \"Outpatient\"), \"admit_type_mod\"] = \"OUTPATIENT\"\n",
    "\n",
    "data.loc[(data.admit_type == \"SNF/ICF\"), \"admit_type_mod\"] = \"SNF_ICF\"\n",
    "\n",
    "data.loc[(data.admit_type == \"Information Not Available\") | (data.admit_type == \"Unknown\") | \n",
    "         (data.admit_type.isnull()), \"admit_type_mod\"] = \"UNKNOWN\"\n",
    "\n",
    "data.loc[(data.admit_type == \"Y\") | (data.admit_type == \"9\"), \"admit_type_mod\"] = \"UNDETERMINED\""
   ]
  },
  {
   "cell_type": "code",
   "execution_count": 34,
   "metadata": {},
   "outputs": [
    {
     "data": {
      "text/plain": [
       "array(['UNKNOWN', 'EMERGENCY', 'ELECTIVE', 'OUTPATIENT', 'INPATIENT',\n",
       "       'DOCTOR_REFERAL', 'TRIAGE', 'NEWBORN', 'UNDETERMINED', 'SNF_ICF'],\n",
       "      dtype=object)"
      ]
     },
     "execution_count": 34,
     "metadata": {},
     "output_type": "execute_result"
    }
   ],
   "source": [
    "data.admit_type_mod.unique()"
   ]
  },
  {
   "cell_type": "markdown",
   "metadata": {},
   "source": [
    "<font size=7>Admit Source"
   ]
  },
  {
   "cell_type": "code",
   "execution_count": 35,
   "metadata": {},
   "outputs": [
    {
     "data": {
      "text/plain": [
       "array([nan, 'Non-Health Care Facility Point of*', 'PHYSICIAN REFERRAL',\n",
       "       'HOME/PHYS OFF/WORKPLACE', 'Not available',\n",
       "       'Transfer from a hospital (different facility)', 'Clinic Referral',\n",
       "       'Information not available', 'Transfer from Hospital (Different*',\n",
       "       'WALK-IN', '12', 'Q', 'Information Unavailable',\n",
       "       'Physician Referral', 'S', 'TRANSFER FROM SNF', 'EMERGENCY ROOM',\n",
       "       'Born Inside this Hospital', 'A Ambulatory Surgery Center',\n",
       "       'NORMAL DELIVERY', 'Transfer from SNF or Intermediate*',\n",
       "       'DIRECT PHYS OFF/OTHER FAC', 'Emergency Room',\n",
       "       'Psych, Substance Abuse, or Rehab*',\n",
       "       'Transfer from Skilled Nursing Facility', 'CHE',\n",
       "       'COURT/LAW ENFORCEMENT', 'Court/Law Enforcement', '9 Hospice',\n",
       "       'Transfer from another healthcare facility',\n",
       "       'Transfer from a Skilled Nursing Facility', '103',\n",
       "       '6 - Transfer from Another Health Center', 'Premature Delivery',\n",
       "       '4 Born Outside this Hospital', 'OTHER RESCUE DIRECT ADMIT',\n",
       "       'INFO NOT AVAILABLE', 'J', 'TRAN FROM HOSP/EXTRAMURAL',\n",
       "       'TRANSFER FRM ACUTE CARE HOSP', '100', '11', 'SICK BABY',\n",
       "       '2 - Clinic Referral', 'Transfer From A Skilled Nursing Facility',\n",
       "       '106', 'TRANSFER NOT ACUTE/SNF', 'Transfer From A Hospital',\n",
       "       'Transfer from a hospital', '3 - HMO Referral', 'HMO Referral',\n",
       "       '10', 'BABY BORN INSIDE THE HOSP', '104', '101', '102', 'TR', 'SF',\n",
       "       'O', 'BABY BORN OUTSIDE THE HSP', 'NORMAL NEWBORN', 'Sick Baby',\n",
       "       'LAW ENFOURCEMENT', 'PRIVILEDGE PLUS +',\n",
       "       'TRF FRM HOSPICE&UNDER PLA'], dtype=object)"
      ]
     },
     "execution_count": 35,
     "metadata": {},
     "output_type": "execute_result"
    }
   ],
   "source": [
    "data.admit_source.unique()"
   ]
  },
  {
   "cell_type": "code",
   "execution_count": 36,
   "metadata": {},
   "outputs": [],
   "source": [
    "data[\"admit_source_mod\"] = np.nan"
   ]
  },
  {
   "cell_type": "code",
   "execution_count": 37,
   "metadata": {},
   "outputs": [],
   "source": [
    "data.loc[(data.admit_source == \"PHYSICIAN REFERRAL\") | \n",
    "         (data.admit_source == \"Clinic Referral\") | \n",
    "         (data.admit_source == \"Physician Referral\") | \n",
    "         (data.admit_source == \"2 - Clinic Referral\") | \n",
    "         (data.admit_source == \"3 - HMO Referral\") | \n",
    "         (data.admit_source == \"HMO Referral\") | \n",
    "         (data.admit_source == \"Non-Health Care Facility Point of*\"), \"admit_source_mod\"] = \"REFERRAL\"\n",
    "\n",
    "data.loc[(data.admit_source == \"Transfer from a hospital (different facility)\") | \n",
    "         (data.admit_source == \"Transfer from Hospital (Different*\") | \n",
    "         (data.admit_source == \"TRANSFER FROM SNF\") | \n",
    "         (data.admit_source == \"Transfer from SNF or Intermediate*\") | \n",
    "         (data.admit_source == \"Transfer from Skilled Nursing Facility\") | \n",
    "         (data.admit_source == \"Transfer from another healthcare facility\") | \n",
    "         (data.admit_source == \"Transfer from a Skilled Nursing Facility\") | \n",
    "         (data.admit_source == \"Transfer from A Skilled Nursing Facility\") | \n",
    "         (data.admit_source == \"Transfer From A Skilled Nursing Facility\") | \n",
    "         (data.admit_source == \"6 - Transfer from Another Health Center\") | \n",
    "         (data.admit_source == \"TRAN FROM HOSP/EXTRAMURAL\") | \n",
    "         (data.admit_source == \"TRANSFER FRM ACUTE CARE HOSP\") | \n",
    "         (data.admit_source == \"TRANSFER NOT ACUTE/SNF\") | \n",
    "         (data.admit_source == \"Transfer From A Hospital\") | \n",
    "         (data.admit_source == \"Transfer from a hospital\") | \n",
    "         (data.admit_source == \"TR\")| \n",
    "         (data.admit_source == \"TRF FRM HOSPICE&UNDER PLA\") |\n",
    "         (data.admit_source == \"9 Hospice\"), \"admit_source_mod\"] = \"TRANSFER\"\n",
    "\n",
    "data.loc[(data.admit_source == \"Born Inside this Hospital\") | \n",
    "         (data.admit_source == \"Premature Delivery\") | \n",
    "         (data.admit_source == \"NORMAL DELIVERY\") |\n",
    "         (data.admit_source == \"4 Born Outside this Hospital\") | \n",
    "         (data.admit_source == \"BABY BORN INSIDE THE HOSP\") | \n",
    "         (data.admit_source == \"BABY BORN OUTSIDE THE HSP\") | \n",
    "         (data.admit_source == \"NORMAL NEWBORN\") | \n",
    "         (data.admit_source == \"SICK BABY\") | \n",
    "         (data.admit_source == \"Sick Baby\"), \"admit_source_mod\"] = \"NEONATAL_PEDIATRIC\"\n",
    "\n",
    "data.loc[(data.admit_source == \"COURT/LAW ENFORCEMENT\") | \n",
    "         (data.admit_source == \"Court/Law Enforcement\") | \n",
    "         (data.admit_source == \"LAW ENFOURCEMENT\"), \"admit_source_mod\"] = \"LAW_COURT\"\n",
    "\n",
    "data.loc[(data.admit_source == \"EMERGENCY ROOM\") | \n",
    "         (data.admit_source == \"A Ambulatory Surgery Center\") | \n",
    "         (data.admit_source == \"Emergency Room\"), \"admit_source_mod\"] = \"EMERGENCY\"\n",
    "\n",
    "data.loc[(data.admit_source == \"Psych, Substance Abuse, or Rehab*\") | \n",
    "         (data.admit_source == \"CHE\"), \"admit_source_mod\"] = \"PSYCH\"\n",
    "\n",
    "data.loc[(data.admit_source == \"WALK-IN\") | \n",
    "         (data.admit_source == \"HOME/PHYS OFF/WORKPLACE\"), \"admit_source_mod\"] = \"WALK_IN\"\n",
    "\n",
    "data.loc[(data.admit_source == \"DIRECT PHYS OFF/OTHER FAC\") | \n",
    "         (data.admit_source == \"OTHER RESCUE DIRECT ADMIT\"), \"admit_source_mod\"] = \"DIRECT_ADMIT\"\n",
    "\n",
    "data.loc[(data.admit_source == \"PRIVILEDGE PLUS +\"), \"admit_source_mod\"] = \"INSURANCE\"\n",
    "\n",
    "data.loc[(data.admit_source == \"Not available\") | (data.admit_source == \"Information not available\") | \n",
    "         (data.admit_source == \"Information Unavailable\") | data.admit_source.isnull() | \n",
    "         (data.admit_source == \"INFO NOT AVAILABLE\"), \"admit_source_mod\"] = \"UNKNOWN\"\n",
    "\n",
    "data.loc[(data.admit_source == \"12\") | \n",
    "         (data.admit_source == \"Q\") | \n",
    "         (data.admit_source == \"S\") | \n",
    "         (data.admit_source == \"103\") | \n",
    "         (data.admit_source == \"J\") | \n",
    "         (data.admit_source == \"100\") | \n",
    "         (data.admit_source == \"11\") | \n",
    "         (data.admit_source == \"106\") | \n",
    "         (data.admit_source == \"10\") | \n",
    "         (data.admit_source == \"104\") | \n",
    "         (data.admit_source == \"101\") | \n",
    "         (data.admit_source == \"102\") | \n",
    "         (data.admit_source == \"SF\") | \n",
    "         (data.admit_source == \"O\"), \"admit_source_mod\"] = \"UNDETERMINED\""
   ]
  },
  {
   "cell_type": "code",
   "execution_count": 38,
   "metadata": {},
   "outputs": [
    {
     "data": {
      "text/plain": [
       "array(['UNKNOWN', 'REFERRAL', 'WALK_IN', 'TRANSFER', 'UNDETERMINED',\n",
       "       'EMERGENCY', 'NEONATAL_PEDIATRIC', 'DIRECT_ADMIT', 'PSYCH',\n",
       "       'LAW_COURT', 'INSURANCE'], dtype=object)"
      ]
     },
     "execution_count": 38,
     "metadata": {},
     "output_type": "execute_result"
    }
   ],
   "source": [
    "data.admit_source_mod.unique()"
   ]
  },
  {
   "cell_type": "markdown",
   "metadata": {},
   "source": [
    "<font size=7>Disposition"
   ]
  },
  {
   "cell_type": "code",
   "execution_count": 39,
   "metadata": {},
   "outputs": [
    {
     "data": {
      "text/plain": [
       "119"
      ]
     },
     "execution_count": 39,
     "metadata": {},
     "output_type": "execute_result"
    }
   ],
   "source": [
    "data.disposition.nunique()"
   ]
  },
  {
   "cell_type": "code",
   "execution_count": 40,
   "metadata": {},
   "outputs": [],
   "source": [
    "data[\"disposition_mod\"] = np.nan"
   ]
  },
  {
   "cell_type": "code",
   "execution_count": 41,
   "metadata": {},
   "outputs": [],
   "source": [
    "data.loc[(data.disposition == \"01 Discharged to home or self care\") |\n",
    "         (data.disposition == \"06 Discharged / Transferred to home under care of organized home health service organization\") |  \n",
    "         (data.disposition == \"HOM\") |  \n",
    "         (data.disposition == \"HOMEANF\") | \n",
    "         (data.disposition == \"HOMESNF\") | \n",
    "         (data.disposition == \"HOMEDAVITA\") | \n",
    "         (data.disposition == \"1\") | \n",
    "         (data.disposition == \"6\") |  \n",
    "         (data.disposition == \"81\"), \"disposition_mod\"] = \"HOME\"\n",
    "\n",
    "data.loc[(data.disposition == \"20 Expired\") | \n",
    "         (data.disposition == \"20 Expired (or did not recover - Christian Science Patient)\") |  \n",
    "         (data.disposition == \"20 Expired at home (hospice claims only)\") |  \n",
    "         (data.disposition == \"20\"), \"disposition_mod\"] = \"EXPIRED\"\n",
    "\n",
    "data.loc[(data.disposition == \"03 Discharged / Transferred to SNF\") | \n",
    "         (data.disposition == \"3\") |\n",
    "         (data.disposition == \"04 Discharged / Transferred to an ICF\") | \n",
    "         (data.disposition == \"SNF\") | \n",
    "         (data.disposition == \"ICF\") | \n",
    "         (data.disposition == \"4\") | \n",
    "         (data.disposition == \"04 Discharged / Transferred to an ICF\") |  \n",
    "         (data.disposition == \"61\") |\n",
    "         (data.disposition == \"83\") | \n",
    "         (data.disposition == \"84\") | \n",
    "         (data.disposition == \"89\") | \n",
    "         (data.disposition == \"92\"), \"disposition_mod\"] = \"SNF_ICF\"\n",
    "\n",
    "data.loc[(data.disposition == \"DMH\") | \n",
    "         (data.disposition == \"DUK\") |  \n",
    "         (data.disposition == \"DUKE\"), \"disposition_mod\"] = \"DUKE\"\n",
    "\n",
    "data.loc[(data.disposition == \"CAR\") | \n",
    "         (data.disposition == \"CHA\") |  \n",
    "         (data.disposition == \"CAROLINA\") |  \n",
    "         (data.disposition == \"CHAPELHILL\"), \"disposition_mod\"] = \"CHAPEL_HILL\"\n",
    "\n",
    "data.loc[(data.disposition == \"NHRMC\") | \n",
    "         (data.disposition == \"NHR\"), \"disposition_mod\"] = \"NHRMC\"\n",
    "\n",
    "data.loc[(data.disposition == \"2\") | \n",
    "         (data.disposition == \"02 Discharged / Transferred to Hospital\") | \n",
    "         (data.disposition == \"9\") |\n",
    "         (data.disposition == \"63\") | \n",
    "         (data.disposition == \"63 Discharged/Transferred to long term care hospital\") |\n",
    "         (data.disposition == \"66 Discharged/transferred to a Critical Access Hospital (CAH)\") | \n",
    "         (data.disposition == \"82\") | \n",
    "         (data.disposition == \"94\"), \"disposition_mod\"] = \"HOSPITAL\"\n",
    "\n",
    "data.loc[(data.disposition == \"65 Discharged/Transferred to a Psychiatric Hospital\") | \n",
    "         (data.disposition == \"65\") | \n",
    "         (data.disposition == \"93\"), \"disposition_mod\"] = \"PSYCH\"\n",
    "\n",
    "data.loc[(data.disposition == \"62\") | \n",
    "         (data.disposition == \"90\"), \"disposition_mod\"] = \"REHAB_IRF\"\n",
    "\n",
    "data.loc[(data.disposition == \"07 Left against medical advice, or discontinued care\") | \n",
    "         (data.disposition == \"7\") | \n",
    "         (data.disposition == \"AMA\") | \n",
    "         (data.disposition == \"LWT\") | \n",
    "         (data.disposition == \"LWBS\"), \"disposition_mod\"] = \"LEFT_AGAINST_MED_ADVICE\"\n",
    "\n",
    "data.loc[(data.disposition == \"5\") | \n",
    "         (data.disposition == \"05 Discharged / Transferred to another type of institution\") |  \n",
    "         (data.disposition == \"OTH\") |  \n",
    "         (data.disposition == \"70\") |  \n",
    "         (data.disposition == \"85\"), \"disposition_mod\"] = \"MISC_FACILITY\"\n",
    "\n",
    "data.loc[(data.disposition == \"50\") | \n",
    "         (data.disposition == \"50 Hospice - home\") | \n",
    "         (data.disposition == \"51 Hospice - medical facility\") | \n",
    "         (data.disposition == \"51\"), \"disposition_mod\"] = \"HOSPICE\"\n",
    "\n",
    "data.loc[(data.disposition == \"43\") | \n",
    "         (data.disposition == \"NAVAL\") | \n",
    "         (data.disposition == \"VA\") | \n",
    "         (data.disposition == \"NAV\"), \"disposition_mod\"] = \"MILITARY\"\n",
    "\n",
    "data.loc[(data.disposition == \"HHS\") | \n",
    "         (data.disposition == \"HHSASSIST\"), \"disposition_mod\"] = \"HEALTH_HUMAN_SERVICES\"\n",
    "\n",
    "data.loc[(data.disposition == \"VID\") | \n",
    "         (data.disposition == \"VIDANT\"), \"disposition_mod\"] = \"VIDANT\"\n",
    "\n",
    "data.loc[(data.disposition == \"87\"), \"disposition_mod\"] = \"COURT_LAW\"\n",
    "\n",
    "data.loc[(data.disposition == \"8\") |\n",
    "         (data.disposition == \"08\") | \n",
    "         (data.disposition == \"80\") | \n",
    "         (data.disposition == \"96\") | \n",
    "         (data.disposition == \"98\") | \n",
    "         (data.disposition == \"99\"), \"disposition_mod\"] = \"RESERVED_NATIONAL_ASSIGNMENT\"\n",
    "\n",
    "data.loc[(data.disposition == \"30\"), \"disposition_mod\"] = \"STILL_PATIENT\"\n",
    "\n",
    "onslow = [\"LWB\",\"LWS\",\"XPH\",\"XIR\",\"AOB\",\"ELO\",\"AIP\",\"XLA\",\"EGWOA\",\"STH\",\"EGW\",\"LTC\",\"HOSM\",\"HOS\",\"AOBS\",\"LABORCHECK\",\"LAB\",\n",
    "          \"TERTIARY\",\"XFH\",\"ELWOA\",\"XLAW\",\"XNF\",\"XCAN\"]\n",
    "data.loc[(data.disposition.isin(onslow)), \"disposition_mod\"] = \"ONSLOW_MEMORIAL_HOS_CODES\"\n",
    "\n",
    "alphabetical_codes = [\"A\",\"B\",\"C\",\"D\",\"E\",\"F\",\"G\",\"H\",\"I\",\"J\",\"L\",\"N\",\"O\",\"P\",\"R\",\"S\",\"X\"]\n",
    "data.loc[(data.disposition.isin(alphabetical_codes)), \"disposition_mod\"] = \"UNKNOWN_ALPHABETICAL_CODES\"\n",
    "\n",
    "data.loc[(data.disposition.isnull()), \"disposition_mod\"] = \"UNKNOWN\"\n",
    "\n",
    "data.loc[(data.disposition == \"0\") |\n",
    "         (data.disposition == \"AOF\") | \n",
    "         (data.disposition == \"CD\") | \n",
    "         (data.disposition == \"LWD\"), \"disposition_mod\"] = \"UNDETERMINED\""
   ]
  },
  {
   "cell_type": "code",
   "execution_count": 42,
   "metadata": {},
   "outputs": [
    {
     "data": {
      "text/plain": [
       "array(['UNKNOWN', 'UNKNOWN_ALPHABETICAL_CODES', 'UNDETERMINED', 'EXPIRED',\n",
       "       'HOME', 'MISC_FACILITY', 'LEFT_AGAINST_MED_ADVICE',\n",
       "       'ONSLOW_MEMORIAL_HOS_CODES', 'SNF_ICF', 'HOSPITAL', 'REHAB_IRF',\n",
       "       'CHAPEL_HILL', 'DUKE', 'VIDANT', 'HEALTH_HUMAN_SERVICES', 'NHRMC',\n",
       "       'HOSPICE', 'MILITARY', 'RESERVED_NATIONAL_ASSIGNMENT', 'PSYCH',\n",
       "       'STILL_PATIENT', 'COURT_LAW'], dtype=object)"
      ]
     },
     "execution_count": 42,
     "metadata": {},
     "output_type": "execute_result"
    }
   ],
   "source": [
    "data.disposition_mod.unique()"
   ]
  },
  {
   "cell_type": "markdown",
   "metadata": {},
   "source": [
    "<font size=7>Financial Class"
   ]
  },
  {
   "cell_type": "code",
   "execution_count": 43,
   "metadata": {},
   "outputs": [
    {
     "data": {
      "text/plain": [
       "190"
      ]
     },
     "execution_count": 43,
     "metadata": {},
     "output_type": "execute_result"
    }
   ],
   "source": [
    "data.financial_class.nunique()"
   ]
  },
  {
   "cell_type": "code",
   "execution_count": 44,
   "metadata": {},
   "outputs": [
    {
     "data": {
      "text/plain": [
       "array(['Dosher Memorial Hospital'], dtype=object)"
      ]
     },
     "execution_count": 44,
     "metadata": {},
     "output_type": "execute_result"
    }
   ],
   "source": [
    "data[\"financial_class_mod\"] = np.nan\n",
    "test_insurances =  [\"TPL OP\",\"SBE\",\"GBR\",\"BBD\",\"MBX\",\"MBP\",\"GBV\",\"CBY\",\"CBI\",\"MBK\",\"XBN\",\"XBU\",\"PNH\",\"DBC\",\"XBV\",\"POT\",\n",
    "                    \"XBO\",\"GBT\",\"MBV\",\"BBG\",\"GBN\",\"MBO\",\"DBD\",\"GBM\",\"GBH\",\"GBS\",\"GHI OP\",\"GBU\",\"XPV\",\"CBT\",\"CBS\",\"GBX\",\n",
    "                    \"XBS\",\"CBP\",\"CBU\",\"XBM\",\"CBG\",\"MBM\",\"MPV\",\"GB1\",\"TPL THERAPY\"]\n",
    "dosher_insurance = data[(data.financial_class.isin(test_insurances)) & \n",
    "                        (data.facility == \"Dosher Memorial Hospital\")].financial_class.unique()\n",
    "data[data.financial_class.isin(dosher_insurance)].facility.unique()"
   ]
  },
  {
   "cell_type": "code",
   "execution_count": 45,
   "metadata": {},
   "outputs": [
    {
     "data": {
      "text/plain": [
       "array(['Dosher Memorial Hospital'], dtype=object)"
      ]
     },
     "execution_count": 45,
     "metadata": {},
     "output_type": "execute_result"
    }
   ],
   "source": [
    "dosher = [\"C\",\"C02\",\"C09\",\"C10\",\"C17\",\"C18\",\"C20\",\"C21\",\"C25\",\"C26\",\"C32\",\"C33\",\"C34\",\"C37\",\"C38\",\"C46\",\"C50\",\"C52\",\"C54\",\n",
    "          \"C55\",\"CB\",\"CB1\",\"CB2\",\"CB4\",\"CB6\",\"CB8\",\"CB9\",\"CT\",\"CW\",\"GL\",\"MF\",\"PL\",\"CBG\"]\n",
    "data[data.financial_class.isin(dosher)].facility.unique()"
   ]
  },
  {
   "cell_type": "code",
   "execution_count": 46,
   "metadata": {},
   "outputs": [
    {
     "data": {
      "text/plain": [
       "array(['Southeastern Regional Medical Center'], dtype=object)"
      ]
     },
     "execution_count": 46,
     "metadata": {},
     "output_type": "execute_result"
    }
   ],
   "source": [
    "srmc = [\"D\",\"F\",\"T\",\"V\",\"W\"]\n",
    "data[data.financial_class.isin(srmc)].facility.unique()"
   ]
  },
  {
   "cell_type": "code",
   "execution_count": 47,
   "metadata": {},
   "outputs": [],
   "source": [
    "data.loc[(data.financial_class == \"Unknown\") | \n",
    "         (data.financial_class == \"U\") | \n",
    "         (data.financial_class.isnull()), \"financial_class_mod\"] = \"UNKNOWN\"\n",
    "\n",
    "bcbs_prefixes = [\"CBY\",\"CBI\",\"CVA\",\"CBT\",\"CBS\",\"CBP\",\"CBU\",\"BBG\",\"DBC\",\"TCE\",\"SBE\",\"GBR\",\"GBV\",\"GBT\",\"GBN\",\"GBM\",\"GBH\",\"GBS\",\n",
    "                 \"GBU\",\"GBX\",\"MBK\",\"MBM\",\"MBO\",\"MBP\",\"MBV\",\"MBX\",\"MPV\",\"PNH\",\"POT\",\"XBM\",\"XBN\",\"XBO\",\"XBS\",\"XBU\",\"XPV\"]\n",
    "data.loc[(data.financial_class == \"Blue Cross\") | \n",
    "         (data.financial_class == \"BCBS\") | \n",
    "         (data.financial_class == \"Blue Cross-Out of State\") | \n",
    "         (data.financial_class.isin(bcbs_prefixes)), \"financial_class_mod\"] = \"BLUE_CROSS\"\n",
    "\n",
    "data.loc[(data.financial_class == \"SELF\") | \n",
    "         (data.financial_class == \"Self-pay\") | \n",
    "         (data.financial_class == \"Self-Pay\") | \n",
    "         (data.financial_class == \"PRIVATE PAY\") | \n",
    "         (data.financial_class == \"PRIVATE PAY THERAPY\"), \"financial_class_mod\"] = \"SELF_PAY\"\n",
    "\n",
    "data.loc[(data.financial_class == \"Veteran's Affairs\") | \n",
    "         (data.financial_class == \"Veterans Affairs\") | \n",
    "         (data.financial_class == \"Veterans' Affairs\"), \"financial_class_mod\"] = \"VETERANS_AFFAIRS\"\n",
    "\n",
    "data.loc[(data.financial_class == \"Medicare\") | \n",
    "         (data.financial_class == \"Medicare Health Maintenance Organization (HMO)\") | \n",
    "         (data.financial_class == \"MCRE ADV\") | \n",
    "         (data.financial_class == \"CARE\") | \n",
    "         (data.financial_class == \"HUMANA MEDICARE OP\") | \n",
    "         (data.financial_class == \"Medicare HMO\") | \n",
    "         (data.financial_class == \"UNITED HEALTHCARE MEDICARE\") | \n",
    "         (data.financial_class == \"BLUE MEDICARE OP\") | \n",
    "         (data.financial_class == \"AETNA MEDICARE OPEN OP\") | \n",
    "         (data.financial_class == \"BLUE MEDICARE IP\") | \n",
    "         (data.financial_class == \"UNITED HEALTHCARE MEDICARE I/P\") | \n",
    "         (data.financial_class == \"HUMANA MEDICARE IP\") | \n",
    "         (data.financial_class == \"Medicare Health Maintenance Organization\") | \n",
    "         (data.financial_class == \"UNICARE MEDICARE IP\") | \n",
    "         (data.financial_class == \"CIGNA MEDICARE ACCESS\") | \n",
    "         (data.financial_class == \"UNICARE MEDICARE OP\") | \n",
    "         (data.financial_class == \"MVP CARE/USA CARE MEDICARE OP\") | \n",
    "         (data.financial_class == \"MVP CARE/USA CARE MEDICARE IP\") | \n",
    "         (data.financial_class == \"PYRAMID MEDICARE OP\"), \"financial_class_mod\"] = \"MEDICARE\"\n",
    "\n",
    "data.loc[(data.financial_class == \"Medicaid\") | \n",
    "         (data.financial_class == \"CAID\") | \n",
    "         (data.financial_class == \"Medicaid Out-of-State\") | \n",
    "         (data.financial_class == \"MCAID SC\") | \n",
    "         (data.financial_class == \"MCD MGD CARE\") | \n",
    "         (data.financial_class == \"Institutional\"), \"financial_class_mod\"] = \"MEDICAID\"\n",
    "\n",
    "data.loc[(data.financial_class == \"MEDICARE & MEDICAID\"), \"financial_class_mod\"] = \"MEDICARE_MEDICAID\"\n",
    "\n",
    "data.loc[(data.financial_class == \"Workers' Compensation\") | \n",
    "         (data.financial_class == \"WC\") | \n",
    "         (data.financial_class == \"Worker's Compensation\"), \"financial_class_mod\"] = \"WORKERS_COMP\"\n",
    "\n",
    "data.loc[(data.financial_class == \"AETNA US HEALTHCARE OP\") | \n",
    "         (data.financial_class == \"AETNA US HEALTHCARE IP\") | \n",
    "         (data.financial_class == \"AETNA CLINIC\"), \"financial_class_mod\"] = \"AETNA\"\n",
    "\n",
    "data.loc[(data.financial_class == \"CIGNA OP\") | \n",
    "         (data.financial_class == \"NALC CIGNA\") | \n",
    "         (data.financial_class == \"APWU CIGNA\") | \n",
    "         (data.financial_class == \"CIGNA IP\") | \n",
    "         (data.financial_class == \"CIGNA CLINIC\"), \"financial_class_mod\"] = \"CIGNA\"\n",
    "\n",
    "data.loc[(data.financial_class == \"MIDWEST LIFE - INS CENTER OP\") | \n",
    "         (data.financial_class == \"MIDWEST LIFE - INS CENTER IP\"), \"financial_class_mod\"] = \"MIDWEST_LIFE\"\n",
    "\n",
    "data.loc[(data.financial_class == \"UNITED HEALTHCARE IP\") | \n",
    "         (data.financial_class == \"UNITED HEALTHCARE CLINIC\") | \n",
    "         (data.financial_class == \"UNITED HEALTHCARE OP\"), \"financial_class_mod\"] = \"UNITED\"\n",
    "\n",
    "data.loc[(data.financial_class == \"ASSURANT HEALTH OP\") | \n",
    "         (data.financial_class == \"ASSURANT HEALTH IP\"), \"financial_class_mod\"] = \"ASSURANT_HEALTH\"\n",
    "\n",
    "data.loc[(data.financial_class == \"AARP OP\") | \n",
    "         (data.financial_class == \"AARP IP\"), \"financial_class_mod\"] = \"AARP\"\n",
    "\n",
    "data.loc[(data.financial_class == \"GOLDEN RULE IP\") | \n",
    "         (data.financial_class == \"GOLDEN RULE OP\"), \"financial_class_mod\"] = \"GOLDEN_RULE\"\n",
    "\n",
    "data.loc[(data.financial_class == \"USAA LIFE IP\") | \n",
    "         (data.financial_class == \"Tricare/Champus\") | \n",
    "         (data.financial_class == \"Tricare.Champus\"), \"financial_class_mod\"] = \"USAA_TRICARE\"\n",
    "\n",
    "data.loc[(data.financial_class == \"MEDCOST OP\") | \n",
    "         (data.financial_class == \"MEDCOST CLINIC\") | \n",
    "         (data.financial_class == \"MEDCOST IP\"), \"financial_class_mod\"] = \"MEDCOST\"\n",
    "\n",
    "data.loc[(data.financial_class == \"TPL OP\") | \n",
    "         (data.financial_class == \"TPL THERAPY\") | \n",
    "         (data.financial_class == \"Liability\") | \n",
    "         (data.financial_class == \"LIABILITY\"), \"financial_class_mod\"] = \"LIABILITY\"\n",
    "\n",
    "data.loc[(data.financial_class == \"NC HEALTH CHOICE\") | \n",
    "         (data.financial_class == \"NC HEALTH CHOICE CLINIC\"), \"financial_class_mod\"] = \"NC_HEALTH_CHOICE\"\n",
    "\n",
    "data.loc[(data.financial_class == \"Commercial\") | \n",
    "         (data.financial_class == \"COMM\") | \n",
    "         (data.financial_class == \"Commercail\"), \"financial_class_mod\"] = \"COMMERCIAL\"\n",
    "\n",
    "data.loc[(data.financial_class == \"GB1\") | \n",
    "         (data.financial_class == \"HUMANA OP\"), \"financial_class_mod\"] = \"HUMANA\"\n",
    "\n",
    "data.loc[(data.financial_class == \"CBX\") | \n",
    "         (data.financial_class == \"BBD\") | \n",
    "         (data.financial_class == \"XBV\") | \n",
    "         (data.financial_class == \"DBD\"), \"financial_class_mod\"] = \"UNASSIGNED_ALPHA_PREFIX\"\n",
    "\n",
    "data.loc[(data.financial_class.isin(dosher)), \"financial_class_mod\"] = \"DOSHER_MEMORIAL_HOSPITAL\"\n",
    "\n",
    "data.loc[(data.financial_class.isin(srmc)), \"financial_class_mod\"] = \"SRMC\"\n",
    "\n",
    "data.loc[(data.financial_class == \"COVENTRY IP\") | \n",
    "         (data.financial_class == \"COVENTRY OP\") | \n",
    "         (data.financial_class == \"WELLPATH OP\") | \n",
    "         (data.financial_class == \"GEHA WELLPATH COVENTRY\"), \"financial_class_mod\"] = \"WELLPATH_COVENTRY\"\n",
    "\n",
    "data.loc[(data.financial_class == \"HOSP\") | \n",
    "         (data.financial_class == \"Hospice\"), \"financial_class_mod\"] = \"HOSPICE\"\n",
    "\n",
    "data.loc[(data.financial_class == \"AMERICAS 1ST CHOICE IP\") | \n",
    "         (data.financial_class == \"AMERICAS 1ST CHOICE OP\"), \"financial_class_mod\"] = \"AMERICAS_1ST\"\n",
    "\n",
    "data.loc[(data.financial_class == \"UNITED MEDICAL RESOURCES IP\") | \n",
    "         (data.financial_class == \"UNITED MEDICAL RESOURCES OP\"), \"financial_class_mod\"] = \"UNITED_MEDICAL\"\n",
    "\n",
    "data.loc[(data.financial_class == \"State Health Plan\"), \"financial_class_mod\"] = \"STATE_HEALTH_PLAN\"\n",
    "\n",
    "data.loc[(data.financial_class == \"Preferred Provider Organization (PPO)\"), \"financial_class_mod\"] = \"PREFERRED_PROVIDER_ORG\"\n",
    "\n",
    "data.loc[(data.financial_class == \"NC BAPTIST ASSEMBLY OP\") | \n",
    "         (data.financial_class == \"POMCO OP\") | \n",
    "         (data.financial_class == \"GHI OP\") | \n",
    "         (data.financial_class == \"MAIL HANDLERS OP\") | \n",
    "         (data.financial_class == \"CORESOURCE OP\") | \n",
    "         (data.financial_class == \"BEMC COOPERATIVE BENEFIT ADM INC OP\") | \n",
    "         (data.financial_class == \"UNICARE OP\") | \n",
    "         (data.financial_class == \"BANKERS LIFE OP\") | \n",
    "         (data.financial_class == \"FAC BILL\") | \n",
    "         (data.financial_class == \"FIN COUNSEL\") | \n",
    "         (data.financial_class == \"SPONS AG\") | \n",
    "         (data.financial_class == \"BRUNS CO HD/BCCCP\") | \n",
    "         (data.financial_class == \"MEDICAL MUTUAL OF OHIO OP\") | \n",
    "         (data.financial_class == \"MUTUAL OF OMAHA OP\") | \n",
    "         (data.financial_class == \"UNITED AMERICAN INS OP\") | \n",
    "         (data.financial_class == \"OT STATE\"), \"financial_class_mod\"] = \"MISC\"\n",
    "\n",
    "data.loc[(data.financial_class == \"Other\") | \n",
    "         (data.financial_class == \"O\") | \n",
    "         (data.financial_class == \"OTHER\"), \"financial_class_mod\"] = \"OTHER\"\n",
    "\n",
    "data.loc[(data.financial_class == \"Unknown\") | \n",
    "         (data.financial_class == \"U\") | \n",
    "         (data.financial_class.isnull()), \"financial_class_mod\"] = \"UNKNOWN\"\n",
    "\n",
    "data.loc[(data.financial_class == \"*\") | \n",
    "         (data.financial_class == \"=\") | \n",
    "         (data.financial_class == \"+\") | \n",
    "         (data.financial_class == \"\\\\F\\\\\"), \"financial_class_mod\"] = \"UNDETERMINED\""
   ]
  },
  {
   "cell_type": "code",
   "execution_count": 48,
   "metadata": {},
   "outputs": [
    {
     "data": {
      "text/plain": [
       "array(['UNKNOWN', 'BLUE_CROSS', 'OTHER', 'COMMERCIAL', 'MEDICARE',\n",
       "       'VETERANS_AFFAIRS', 'MEDICAID', 'SELF_PAY', 'USAA_TRICARE',\n",
       "       'WORKERS_COMP', 'STATE_HEALTH_PLAN', 'HOSPICE', 'LIABILITY',\n",
       "       'UNITED', 'AARP', 'AETNA', 'DOSHER_MEMORIAL_HOSPITAL', 'SRMC',\n",
       "       'CIGNA', 'UNASSIGNED_ALPHA_PREFIX', 'HUMANA', 'UNITED_MEDICAL',\n",
       "       'NC_HEALTH_CHOICE', 'MEDCOST', 'MISC', 'MEDICARE_MEDICAID',\n",
       "       'PREFERRED_PROVIDER_ORG', 'ASSURANT_HEALTH', 'GOLDEN_RULE',\n",
       "       'WELLPATH_COVENTRY', 'UNDETERMINED', 'MIDWEST_LIFE',\n",
       "       'AMERICAS_1ST'], dtype=object)"
      ]
     },
     "execution_count": 48,
     "metadata": {},
     "output_type": "execute_result"
    }
   ],
   "source": [
    "data.financial_class_mod.unique()"
   ]
  },
  {
   "cell_type": "markdown",
   "metadata": {},
   "source": [
    "<font size=7>VIP Indicator"
   ]
  },
  {
   "cell_type": "code",
   "execution_count": 49,
   "metadata": {},
   "outputs": [
    {
     "data": {
      "text/plain": [
       "6"
      ]
     },
     "execution_count": 49,
     "metadata": {},
     "output_type": "execute_result"
    }
   ],
   "source": [
    "data.vip_indicator.nunique()"
   ]
  },
  {
   "cell_type": "code",
   "execution_count": 50,
   "metadata": {},
   "outputs": [],
   "source": [
    "data[\"vip_indicator_mod\"] = np.nan"
   ]
  },
  {
   "cell_type": "code",
   "execution_count": 51,
   "metadata": {},
   "outputs": [],
   "source": [
    "data.loc[(data.vip_indicator == \"Restricted\"), \"vip_indicator_mod\"] = \"RESTRICTED\"\n",
    "data.loc[(data.vip_indicator == \"VIP\"), \"vip_indicator_mod\"] = \"VIP\"\n",
    "data.loc[(data.vip_indicator == \"Normal\"), \"vip_indicator_mod\"] = \"NORMAL\"\n",
    "data.loc[(data.vip_indicator == \"EMPLOYEE & EMP.  RELATED\"), \"vip_indicator_mod\"] = \"EMPLOYEE_&_EMP_RELATED\"\n",
    "data.loc[(data.vip_indicator == \"PHYSICIAN & PHY RELATED\"), \"vip_indicator_mod\"] = \"PHYSICIAN_&_PHY_RELATED\"\n",
    "data.loc[(data.vip_indicator == \"PREFERRED PLUS\"), \"vip_indicator_mod\"] = \"PREFERRED_PLUS\"\n",
    "data.loc[(data.vip_indicator.isnull()), \"vip_indicator_mod\"] = \"UNKNOWN\""
   ]
  },
  {
   "cell_type": "code",
   "execution_count": 52,
   "metadata": {},
   "outputs": [
    {
     "data": {
      "text/plain": [
       "array(['UNKNOWN', 'RESTRICTED', 'VIP', 'NORMAL', 'EMPLOYEE_&_EMP_RELATED',\n",
       "       'PHYSICIAN_&_PHY_RELATED', 'PREFERRED_PLUS'], dtype=object)"
      ]
     },
     "execution_count": 52,
     "metadata": {},
     "output_type": "execute_result"
    }
   ],
   "source": [
    "data.vip_indicator_mod.unique()"
   ]
  },
  {
   "cell_type": "markdown",
   "metadata": {},
   "source": [
    "<font size=7>Encounter Category"
   ]
  },
  {
   "cell_type": "code",
   "execution_count": 53,
   "metadata": {},
   "outputs": [
    {
     "data": {
      "text/plain": [
       "2"
      ]
     },
     "execution_count": 53,
     "metadata": {},
     "output_type": "execute_result"
    }
   ],
   "source": [
    "data.encounter_category.nunique()"
   ]
  },
  {
   "cell_type": "code",
   "execution_count": 54,
   "metadata": {},
   "outputs": [],
   "source": [
    "data[\"encounter_category_mod\"] = np.nan"
   ]
  },
  {
   "cell_type": "code",
   "execution_count": 55,
   "metadata": {},
   "outputs": [],
   "source": [
    "data.loc[(data.encounter_category == \"Procedure\"), \"encounter_category_mod\"] = \"PROCEDURE\"\n",
    "data.loc[(data.encounter_category == \"Diagnosis\"), \"encounter_category_mod\"] = \"DIAGNOSIS\"\n",
    "data.loc[(data.encounter_category.isnull()), \"encounter_category_mod\"] = \"UNKNOWN\""
   ]
  },
  {
   "cell_type": "code",
   "execution_count": 56,
   "metadata": {},
   "outputs": [
    {
     "data": {
      "text/plain": [
       "array(['DIAGNOSIS', 'PROCEDURE', 'UNKNOWN'], dtype=object)"
      ]
     },
     "execution_count": 56,
     "metadata": {},
     "output_type": "execute_result"
    }
   ],
   "source": [
    "data.encounter_category_mod.unique()"
   ]
  },
  {
   "cell_type": "markdown",
   "metadata": {},
   "source": [
    "<font size=7>Encounter Type"
   ]
  },
  {
   "cell_type": "code",
   "execution_count": 57,
   "metadata": {},
   "outputs": [
    {
     "data": {
      "text/plain": [
       "11"
      ]
     },
     "execution_count": 57,
     "metadata": {},
     "output_type": "execute_result"
    }
   ],
   "source": [
    "data.encounter_type.nunique()"
   ]
  },
  {
   "cell_type": "code",
   "execution_count": 58,
   "metadata": {},
   "outputs": [],
   "source": [
    "data[\"encounter_type_mod\"] = np.nan"
   ]
  },
  {
   "cell_type": "code",
   "execution_count": 59,
   "metadata": {},
   "outputs": [],
   "source": [
    "data.loc[(data.encounter_type == \"ADMIT\") | (data.encounter_type == \"AD\"), \"encounter_type_mod\"] = \"ADMIT\"\n",
    "\n",
    "data.loc[(data.encounter_type == \"WORKING\") | (data.encounter_type == \"Working\") | \n",
    "         (data.encounter_type == \"W\"), \"encounter_type_mod\"] = \"WORKING\"\n",
    "\n",
    "data.loc[(data.encounter_type == \"FINAL\") | (data.encounter_type == \"Final\") | \n",
    "         (data.encounter_type == \"F\"), \"encounter_type_mod\"] = \"FINAL\"\n",
    "\n",
    "data.loc[(data.encounter_type == \"AOF\"), \"encounter_type_mod\"] = \"AOF\"\n",
    "\n",
    "data.loc[(data.encounter_type.isnull()), \"encounter_type_mod\"] = \"UNKNOWN\"\n",
    "\n",
    "data.loc[(data.encounter_type == \"A\") | (data.encounter_type == \"S\"), \"encounter_type_mod\"] = \"UNDETERMINED\""
   ]
  },
  {
   "cell_type": "code",
   "execution_count": 60,
   "metadata": {},
   "outputs": [
    {
     "data": {
      "text/plain": [
       "array(['ADMIT', 'WORKING', 'UNKNOWN', 'AOF', 'FINAL', 'UNDETERMINED'],\n",
       "      dtype=object)"
      ]
     },
     "execution_count": 60,
     "metadata": {},
     "output_type": "execute_result"
    }
   ],
   "source": [
    "data.encounter_type_mod.unique()"
   ]
  },
  {
   "cell_type": "markdown",
   "metadata": {},
   "source": [
    "<font size=7>Encounter Code Method"
   ]
  },
  {
   "cell_type": "code",
   "execution_count": 61,
   "metadata": {},
   "outputs": [
    {
     "data": {
      "text/plain": [
       "12"
      ]
     },
     "execution_count": 61,
     "metadata": {},
     "output_type": "execute_result"
    }
   ],
   "source": [
    "data.encounter_code_method.nunique()"
   ]
  },
  {
   "cell_type": "code",
   "execution_count": 62,
   "metadata": {},
   "outputs": [],
   "source": [
    "data[\"encounter_code_method_mod\"] = np.nan"
   ]
  },
  {
   "cell_type": "code",
   "execution_count": 63,
   "metadata": {},
   "outputs": [],
   "source": [
    "data.loc[(data.encounter_code_method == \"ICD-9\") | (data.encounter_code_method == \"ICD9\") | \n",
    "         (data.encounter_code_method == \"I9\"), \"encounter_code_method_mod\"] = \"ICD_9\"\n",
    "\n",
    "data.loc[(data.encounter_code_method == \"ICD-10\") | (data.encounter_code_method == \"ICD10\") | \n",
    "         (data.encounter_code_method == \"I10\") | (data.encounter_code_method == \"I1\"), \"encounter_code_method_mod\"] = \"ICD_10\"\n",
    "\n",
    "data.loc[(data.encounter_code_method == \"Free Text\") | \n",
    "         (data.encounter_code_method == \"FF\"), \"encounter_code_method_mod\"] = \"FREE_TEXT\"\n",
    "\n",
    "data.loc[(data.encounter_code_method == \"CPT\") | (data.encounter_code_method == \"CP\"), \"encounter_code_method_mod\"] = \"CPT\"\n",
    "\n",
    "data.loc[(data.encounter_code_method == \"H\"), \"encounter_code_method_mod\"] = \"HCPCS\"\n",
    "\n",
    "data.loc[(data.encounter_code_method.isnull()), \"encounter_code_method_mod\"] = \"UNKNOWN\"\n",
    "\n",
    "data.loc[(data.encounter_code_method == \"C4\"), \"encounter_code_method_mod\"] = \"UNDETERMINED\""
   ]
  },
  {
   "cell_type": "code",
   "execution_count": 64,
   "metadata": {},
   "outputs": [
    {
     "data": {
      "text/plain": [
       "array(['ICD_9', 'FREE_TEXT', 'ICD_10', 'CPT', 'UNKNOWN', 'UNDETERMINED',\n",
       "       'HCPCS'], dtype=object)"
      ]
     },
     "execution_count": 64,
     "metadata": {},
     "output_type": "execute_result"
    }
   ],
   "source": [
    "data.encounter_code_method_mod.unique()"
   ]
  },
  {
   "cell_type": "markdown",
   "metadata": {},
   "source": [
    "<font size=7>Cleaning Demographic Profiles"
   ]
  },
  {
   "cell_type": "code",
   "execution_count": 65,
   "metadata": {},
   "outputs": [],
   "source": [
    "# Group all data by patient ID\n",
    "\n",
    "group = data.groupby(\"patient_id\")"
   ]
  },
  {
   "cell_type": "code",
   "execution_count": 66,
   "metadata": {},
   "outputs": [],
   "source": [
    "# Only get IDs with multiple occurences in data\n",
    "\n",
    "data_dup = data.loc[data.patient_id.duplicated(), [\"patient_id\", \"gender\", \"race\", \"ethnicity\", \"language\"]]"
   ]
  },
  {
   "cell_type": "code",
   "execution_count": 67,
   "metadata": {},
   "outputs": [],
   "source": [
    "# All unique, duplicated IDs\n",
    "\n",
    "uni_ids = data_dup.patient_id.unique()"
   ]
  },
  {
   "cell_type": "code",
   "execution_count": 74,
   "metadata": {},
   "outputs": [],
   "source": [
    "# Create a list for each demographic feature that would need profile adjustments\n",
    "\n",
    "gender_fix = []\n",
    "race_fix = []\n",
    "eth_fix = []\n",
    "lang_fix = []\n",
    "\n",
    "# For each unique ID, get all index locations within dataset\n",
    "\n",
    "# For each ID\n",
    "for i, p_id in enumerate(uni_ids):\n",
    "    j = (i + 1) / len(uni_ids)\n",
    "    sys.stdout.write('\\r')\n",
    "    \n",
    "    # Get all index locations for patient ID\n",
    "    pat_idx = group.groups.get(p_id)\n",
    "    \n",
    "    \n",
    "    # For each demographic below:\n",
    "    #     Get all indexes of a patient ID\n",
    "    #     Isolate the demograpic column\n",
    "    #     Add the patient ID to list if there's more than 1 unique demographic value for the ID\n",
    "    \n",
    "    gender_df = data[\"gender\"][pat_idx]\n",
    "    if gender_df.nunique() > 1:\n",
    "        gender_fix.append(p_id)\n",
    "        \n",
    "    race_df = data[\"race\"][pat_idx]\n",
    "    if race_df.nunique() > 1:\n",
    "        race_fix.append(p_id)\n",
    "\n",
    "    eth_df = data[\"ethnicity\"][pat_idx]    \n",
    "    if eth_df.nunique() > 1:\n",
    "        eth_fix.append(p_id)\n",
    "    \n",
    "    lang_df = data[\"language\"][pat_idx]\n",
    "    if lang_df.nunique() > 1:\n",
    "        lang_fix.append(p_id)\n",
    "        \n",
    "        \n",
    "        \n",
    "    sys.stdout.write(\"[%-20s] %d%%\" % ('='*int(20*j), 100*j))\n",
    "    sys.stdout.flush()"
   ]
  },
  {
   "cell_type": "code",
   "execution_count": 75,
   "metadata": {},
   "outputs": [
    {
     "name": "stdout",
     "output_type": "stream",
     "text": [
      "gender:  0\n",
      "gender:  0\n",
      "gender:  0\n",
      "gender:  0\n"
     ]
    }
   ],
   "source": [
    "# Apparently no profile adjustments are needed, AFTER data cleaning\n",
    "\n",
    "print(\"gender: \", len(gender_fix))\n",
    "print(\"gender: \", len(race_fix))\n",
    "print(\"gender: \", len(eth_fix))\n",
    "print(\"gender: \", len(lang_fix))"
   ]
  },
  {
   "cell_type": "code",
   "execution_count": 76,
   "metadata": {},
   "outputs": [],
   "source": [
    "# Code for cleaning demographic profiles--if in future HIE data queries, this problem presents\n",
    "# UNKNOWN AND UNDETERMINED are base cases\n",
    "\n",
    "fix_lists = [gender_fix, race_fix, eth_fix, lang_fix]\n",
    "fix_columns = [\"gender_mod\", \"race_mod\", \"ethnicity_mod\", \"language_mod\"]\n",
    "\n",
    "# For each demographic list/feature\n",
    "for i, demo_list in enumerate(fix_lists):\n",
    "    \n",
    "    # For each ID in the list of inconsistent demographic info\n",
    "    for p_id in demo_list:\n",
    "        \n",
    "        j = (i + 1) / len(demo_list)\n",
    "        sys.stdout.write('\\r')\n",
    "        \n",
    "        # Get the indexes of ID to fix\n",
    "        pat_idx = group.groups.get(p_id)\n",
    "    \n",
    "        # Get demographic values of patient\n",
    "        demo_df = data[fix_columns[i]][pat_idx]\n",
    "        \n",
    "        # All unique demographic values of patient\n",
    "        demo_uni = demo_df.unique().astype(list)\n",
    "        \n",
    "        \n",
    "        \n",
    "        \n",
    "        # For IDs with inconsistent demographic info\n",
    "        if len(demo_uni) > 1:\n",
    "            \n",
    "            # Remove UNKNOWN values\n",
    "            if \"UNKNOWN\" in demo_uni:\n",
    "                demo_uni.remove(\"UNKNOWN\")\n",
    "            \n",
    "            \n",
    "            # If there are STILL inconsistent values\n",
    "            if len(demo_uni) > 1:\n",
    "                \n",
    "                # Remove UNDETERMINED values\n",
    "                if \"UNDETERMINED\" in demo_uni:\n",
    "                    demo_uni.remove(\"UNDETERMINED\")\n",
    "            \n",
    "            \n",
    "            \n",
    "            # If length is 0, then both UNKNOWN and UNDETERMINED were removed--\n",
    "            # UNDETERMINED carries more value\n",
    "            if len(demo_uni) == 0:\n",
    "                data[fix_columns[i]][pat_idx] = \"UNDETERMINED\"\n",
    "                \n",
    "            # If length is 1, it cannot be UNKNOWN, so set all other values to the 1 value left\n",
    "            elif len(demo_uni) == 1:\n",
    "                data[fix_columns[i]][pat_idx] = demo_uni[0]\n",
    "                \n",
    "            # If multiple inconsistent values after removing UNKNOWNs and UNDETERMINEDs--\n",
    "            # set patient demographic info to the most frequent value\n",
    "            else:\n",
    "                top_demo = data[fix_columns[i]][pat_idx].value_counts()[0]\n",
    "                data[fix_columns[i]][pat_idx] = top_demo\n",
    "    \n",
    "    \n",
    "    \n",
    "    \n",
    "        sys.stdout.write(\"[%-20s] %d%%\" % ('='*int(20*j), 100*j))\n",
    "        sys.stdout.flush()"
   ]
  },
  {
   "cell_type": "code",
   "execution_count": 77,
   "metadata": {},
   "outputs": [],
   "source": [
    "# Create csv in local AWS directory\n",
    "\n",
    "data.to_csv(\"HIE_cleaned.csv\", index=False)\n",
    "#datato_csv(\"HIE_cleaned.csv\")"
   ]
  },
  {
   "cell_type": "code",
   "execution_count": 78,
   "metadata": {},
   "outputs": [],
   "source": [
    "# Upload cleaned dataset to AWS S3 bucket\n",
    "\n",
    "s3.upload_file(\"HIE_cleaned.csv\", Bucket=bucket, Key=\"HIE_cleaned.csv\")"
   ]
  },
  {
   "cell_type": "code",
   "execution_count": null,
   "metadata": {},
   "outputs": [],
   "source": []
  }
 ],
 "metadata": {
  "kernelspec": {
   "display_name": "Python 3",
   "language": "python",
   "name": "python3"
  },
  "language_info": {
   "codemirror_mode": {
    "name": "ipython",
    "version": 3
   },
   "file_extension": ".py",
   "mimetype": "text/x-python",
   "name": "python",
   "nbconvert_exporter": "python",
   "pygments_lexer": "ipython3",
   "version": "3.8.5"
  }
 },
 "nbformat": 4,
 "nbformat_minor": 5
}
