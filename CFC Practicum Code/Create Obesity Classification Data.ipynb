{
 "cells": [
  {
   "cell_type": "code",
   "execution_count": 3,
   "id": "purple-wallpaper",
   "metadata": {},
   "outputs": [],
   "source": [
    "import pandas as pd\n",
    "import numpy as np"
   ]
  },
  {
   "cell_type": "markdown",
   "id": "ordinary-grocery",
   "metadata": {},
   "source": [
    "Read in data"
   ]
  },
  {
   "cell_type": "code",
   "execution_count": 4,
   "id": "balanced-louisville",
   "metadata": {
    "scrolled": true
   },
   "outputs": [
    {
     "name": "stderr",
     "output_type": "stream",
     "text": [
      "/home/anaconda3/lib/python3.8/site-packages/IPython/core/interactiveshell.py:3155: DtypeWarning: Columns (17) have mixed types.Specify dtype option on import or set low_memory=False.\n",
      "  has_raised = await self.run_ast_nodes(code_ast.body, cell_name,\n"
     ]
    },
    {
     "data": {
      "text/html": [
       "<div>\n",
       "<style scoped>\n",
       "    .dataframe tbody tr th:only-of-type {\n",
       "        vertical-align: middle;\n",
       "    }\n",
       "\n",
       "    .dataframe tbody tr th {\n",
       "        vertical-align: top;\n",
       "    }\n",
       "\n",
       "    .dataframe thead th {\n",
       "        text-align: right;\n",
       "    }\n",
       "</style>\n",
       "<table border=\"1\" class=\"dataframe\">\n",
       "  <thead>\n",
       "    <tr style=\"text-align: right;\">\n",
       "      <th></th>\n",
       "      <th>patient_id</th>\n",
       "      <th>age</th>\n",
       "      <th>gender</th>\n",
       "      <th>race</th>\n",
       "      <th>ethnicity</th>\n",
       "      <th>language</th>\n",
       "      <th>encounter_id</th>\n",
       "      <th>encounter_class</th>\n",
       "      <th>admit_type</th>\n",
       "      <th>facility</th>\n",
       "      <th>...</th>\n",
       "      <th>financial_class</th>\n",
       "      <th>vip_indicator</th>\n",
       "      <th>encounter_category</th>\n",
       "      <th>encounter_type</th>\n",
       "      <th>encounter_description</th>\n",
       "      <th>encounter_code</th>\n",
       "      <th>encounter_code_method</th>\n",
       "      <th>encounter_priority</th>\n",
       "      <th>file_number</th>\n",
       "      <th>tract_fips</th>\n",
       "    </tr>\n",
       "  </thead>\n",
       "  <tbody>\n",
       "    <tr>\n",
       "      <th>0</th>\n",
       "      <td>284850</td>\n",
       "      <td>120</td>\n",
       "      <td>M</td>\n",
       "      <td>NaN</td>\n",
       "      <td>NaN</td>\n",
       "      <td>NaN</td>\n",
       "      <td>4560864</td>\n",
       "      <td>EMERGENCY</td>\n",
       "      <td>Emergency</td>\n",
       "      <td>New Hanover Regional Medical Center</td>\n",
       "      <td>...</td>\n",
       "      <td>Self-pay</td>\n",
       "      <td>NaN</td>\n",
       "      <td>Diagnosis</td>\n",
       "      <td>ADMIT</td>\n",
       "      <td>GSW to belly</td>\n",
       "      <td>NaN</td>\n",
       "      <td>Free Text</td>\n",
       "      <td>NaN</td>\n",
       "      <td>6.0</td>\n",
       "      <td>37129011500</td>\n",
       "    </tr>\n",
       "    <tr>\n",
       "      <th>1</th>\n",
       "      <td>1133656</td>\n",
       "      <td>21</td>\n",
       "      <td>M</td>\n",
       "      <td>White</td>\n",
       "      <td>Not Hispanic or Latino</td>\n",
       "      <td>en</td>\n",
       "      <td>21341790</td>\n",
       "      <td>OUTPATIENT</td>\n",
       "      <td>NaN</td>\n",
       "      <td>CCHIE Practices</td>\n",
       "      <td>...</td>\n",
       "      <td>NaN</td>\n",
       "      <td>NaN</td>\n",
       "      <td>Procedure</td>\n",
       "      <td>NaN</td>\n",
       "      <td>NO SHOW</td>\n",
       "      <td>NOSHOW</td>\n",
       "      <td>CPT</td>\n",
       "      <td>0.0</td>\n",
       "      <td>17.0</td>\n",
       "      <td>37133002800</td>\n",
       "    </tr>\n",
       "    <tr>\n",
       "      <th>2</th>\n",
       "      <td>132502</td>\n",
       "      <td>73</td>\n",
       "      <td>M</td>\n",
       "      <td>White</td>\n",
       "      <td>Not Hispanic or Latino</td>\n",
       "      <td>en</td>\n",
       "      <td>20792679</td>\n",
       "      <td>OUTPATIENT</td>\n",
       "      <td>NaN</td>\n",
       "      <td>Wilmington Health Practices</td>\n",
       "      <td>...</td>\n",
       "      <td>NaN</td>\n",
       "      <td>NaN</td>\n",
       "      <td>Procedure</td>\n",
       "      <td>NaN</td>\n",
       "      <td>SUBSEQUENT HOSPITAL CARE</td>\n",
       "      <td>99233</td>\n",
       "      <td>CPT</td>\n",
       "      <td>0.0</td>\n",
       "      <td>4.0</td>\n",
       "      <td>37129011705</td>\n",
       "    </tr>\n",
       "    <tr>\n",
       "      <th>3</th>\n",
       "      <td>132502</td>\n",
       "      <td>73</td>\n",
       "      <td>M</td>\n",
       "      <td>White</td>\n",
       "      <td>Not Hispanic or Latino</td>\n",
       "      <td>en</td>\n",
       "      <td>20792679</td>\n",
       "      <td>OUTPATIENT</td>\n",
       "      <td>NaN</td>\n",
       "      <td>Wilmington Health Practices</td>\n",
       "      <td>...</td>\n",
       "      <td>NaN</td>\n",
       "      <td>NaN</td>\n",
       "      <td>Procedure</td>\n",
       "      <td>NaN</td>\n",
       "      <td>HOSPITAL DISCHARGE DAY</td>\n",
       "      <td>99239</td>\n",
       "      <td>CPT</td>\n",
       "      <td>0.0</td>\n",
       "      <td>4.0</td>\n",
       "      <td>37129011705</td>\n",
       "    </tr>\n",
       "    <tr>\n",
       "      <th>4</th>\n",
       "      <td>239721</td>\n",
       "      <td>99</td>\n",
       "      <td>M</td>\n",
       "      <td>White</td>\n",
       "      <td>Not Hispanic or Latino</td>\n",
       "      <td>en</td>\n",
       "      <td>18619927</td>\n",
       "      <td>OUTPATIENT</td>\n",
       "      <td>NaN</td>\n",
       "      <td>Wilmington Health Practices</td>\n",
       "      <td>...</td>\n",
       "      <td>NaN</td>\n",
       "      <td>NaN</td>\n",
       "      <td>Procedure</td>\n",
       "      <td>NaN</td>\n",
       "      <td>OBSERVATION CARE DISCHARGE</td>\n",
       "      <td>99217</td>\n",
       "      <td>CPT</td>\n",
       "      <td>0.0</td>\n",
       "      <td>21.0</td>\n",
       "      <td>37129012008</td>\n",
       "    </tr>\n",
       "  </tbody>\n",
       "</table>\n",
       "<p>5 rows × 26 columns</p>\n",
       "</div>"
      ],
      "text/plain": [
       "   patient_id  age gender   race               ethnicity language  \\\n",
       "0      284850  120      M    NaN                     NaN      NaN   \n",
       "1     1133656   21      M  White  Not Hispanic or Latino       en   \n",
       "2      132502   73      M  White  Not Hispanic or Latino       en   \n",
       "3      132502   73      M  White  Not Hispanic or Latino       en   \n",
       "4      239721   99      M  White  Not Hispanic or Latino       en   \n",
       "\n",
       "   encounter_id encounter_class admit_type  \\\n",
       "0       4560864       EMERGENCY  Emergency   \n",
       "1      21341790      OUTPATIENT        NaN   \n",
       "2      20792679      OUTPATIENT        NaN   \n",
       "3      20792679      OUTPATIENT        NaN   \n",
       "4      18619927      OUTPATIENT        NaN   \n",
       "\n",
       "                              facility  ... financial_class vip_indicator  \\\n",
       "0  New Hanover Regional Medical Center  ...        Self-pay           NaN   \n",
       "1                      CCHIE Practices  ...             NaN           NaN   \n",
       "2          Wilmington Health Practices  ...             NaN           NaN   \n",
       "3          Wilmington Health Practices  ...             NaN           NaN   \n",
       "4          Wilmington Health Practices  ...             NaN           NaN   \n",
       "\n",
       "  encounter_category encounter_type       encounter_description  \\\n",
       "0          Diagnosis          ADMIT                GSW to belly   \n",
       "1          Procedure            NaN                     NO SHOW   \n",
       "2          Procedure            NaN    SUBSEQUENT HOSPITAL CARE   \n",
       "3          Procedure            NaN      HOSPITAL DISCHARGE DAY   \n",
       "4          Procedure            NaN  OBSERVATION CARE DISCHARGE   \n",
       "\n",
       "  encounter_code encounter_code_method encounter_priority file_number  \\\n",
       "0            NaN             Free Text                NaN         6.0   \n",
       "1         NOSHOW                   CPT                0.0        17.0   \n",
       "2          99233                   CPT                0.0         4.0   \n",
       "3          99239                   CPT                0.0         4.0   \n",
       "4          99217                   CPT                0.0        21.0   \n",
       "\n",
       "    tract_fips  \n",
       "0  37129011500  \n",
       "1  37133002800  \n",
       "2  37129011705  \n",
       "3  37129011705  \n",
       "4  37129012008  \n",
       "\n",
       "[5 rows x 26 columns]"
      ]
     },
     "execution_count": 4,
     "metadata": {},
     "output_type": "execute_result"
    }
   ],
   "source": [
    "HIEdata = pd.read_csv(\"_SQL_query_Combined_Jan2019_Jan2021.csv\")\n",
    "HIEdata.head()"
   ]
  },
  {
   "cell_type": "markdown",
   "id": "comparable-lightweight",
   "metadata": {},
   "source": [
    "Copy Data"
   ]
  },
  {
   "cell_type": "code",
   "execution_count": 1,
   "id": "complete-intervention",
   "metadata": {},
   "outputs": [
    {
     "ename": "NameError",
     "evalue": "name 'HIEdata' is not defined",
     "output_type": "error",
     "traceback": [
      "\u001b[0;31m---------------------------------------------------------------------------\u001b[0m",
      "\u001b[0;31mNameError\u001b[0m                                 Traceback (most recent call last)",
      "\u001b[0;32m<ipython-input-1-dd6eb7363ae6>\u001b[0m in \u001b[0;36m<module>\u001b[0;34m\u001b[0m\n\u001b[0;32m----> 1\u001b[0;31m \u001b[0mOverweight\u001b[0m \u001b[0;34m=\u001b[0m \u001b[0mHIEdata\u001b[0m\u001b[0;34m.\u001b[0m\u001b[0mcopy\u001b[0m\u001b[0;34m(\u001b[0m\u001b[0;34m)\u001b[0m\u001b[0;34m\u001b[0m\u001b[0;34m\u001b[0m\u001b[0m\n\u001b[0m",
      "\u001b[0;31mNameError\u001b[0m: name 'HIEdata' is not defined"
     ]
    }
   ],
   "source": [
    "Overweight = HIEdata.copy()"
   ]
  },
  {
   "cell_type": "markdown",
   "id": "civic-scenario",
   "metadata": {},
   "source": [
    "Remove '.' from encounter code column"
   ]
  },
  {
   "cell_type": "code",
   "execution_count": 66,
   "id": "found-humidity",
   "metadata": {},
   "outputs": [],
   "source": [
    "Overweight['encounter_code'] = Overweight['encounter_code'].str.replace('.','', regex=True)"
   ]
  },
  {
   "cell_type": "markdown",
   "id": "western-tunisia",
   "metadata": {},
   "source": [
    "Fill NA values in encounter_code with 'Not Listed'"
   ]
  },
  {
   "cell_type": "code",
   "execution_count": 68,
   "id": "furnished-eight",
   "metadata": {},
   "outputs": [],
   "source": [
    "Overweight['encounter_code'] = Overweight['encounter_code'].fillna('Not Listed')"
   ]
  },
  {
   "cell_type": "markdown",
   "id": "acting-zealand",
   "metadata": {},
   "source": [
    "Create HistoryOfObesity_yn column where value is 'Yes' if encounter_code starts with E66, Z6854, or Z6853 and value is 'No' otherwise"
   ]
  },
  {
   "cell_type": "code",
   "execution_count": 74,
   "id": "southeast-dispute",
   "metadata": {},
   "outputs": [
    {
     "name": "stderr",
     "output_type": "stream",
     "text": [
      "<ipython-input-74-ab26c5bbe7cb>:2: FutureWarning: The pandas.np module is deprecated and will be removed from pandas in a future version. Import numpy directly instead\n",
      "  Overweight[\"HistoryOfObesity_yn\"] = pd.np.where(Overweight.encounter_code.str.startswith(\"E66\"),'Yes',\n",
      "<ipython-input-74-ab26c5bbe7cb>:3: FutureWarning: The pandas.np module is deprecated and will be removed from pandas in a future version. Import numpy directly instead\n",
      "  pd.np.where(Overweight.encounter_code.str.startswith(\"Z6854\"),'Yes',\n",
      "<ipython-input-74-ab26c5bbe7cb>:4: FutureWarning: The pandas.np module is deprecated and will be removed from pandas in a future version. Import numpy directly instead\n",
      "  pd.np.where(Overweight.encounter_code.str.startswith(\"Z6853\"),'Yes', 'No')))\n"
     ]
    }
   ],
   "source": [
    "ObesityCode = ['E66', 'Z6854', 'Z6853']\n",
    "Overweight[\"HistoryOfObesity_yn\"] = pd.np.where(Overweight.encounter_code.str.startswith(\"E66\"),'Yes',\n",
    "                                    pd.np.where(Overweight.encounter_code.str.startswith(\"Z6854\"),'Yes',\n",
    "                                    pd.np.where(Overweight.encounter_code.str.startswith(\"Z6853\"),'Yes', 'No')))   "
   ]
  },
  {
   "cell_type": "markdown",
   "id": "aggregate-trinity",
   "metadata": {},
   "source": [
    "Subset on only patients with a history of obesity"
   ]
  },
  {
   "cell_type": "code",
   "execution_count": 75,
   "id": "looking-wildlife",
   "metadata": {
    "scrolled": true
   },
   "outputs": [],
   "source": [
    "ObesityHistoryYes = Overweight[Overweight['HistoryOfObesity_yn']=='Yes']"
   ]
  },
  {
   "cell_type": "markdown",
   "id": "intelligent-europe",
   "metadata": {},
   "source": [
    "Make a list of unique patient ID's that have a history of obesity using the subsetted created above"
   ]
  },
  {
   "cell_type": "code",
   "execution_count": 85,
   "id": "diagnostic-glossary",
   "metadata": {},
   "outputs": [],
   "source": [
    "ObesePatientId = (ObesityHistoryYes['patient_id'].unique()).tolist()"
   ]
  },
  {
   "cell_type": "markdown",
   "id": "supported-black",
   "metadata": {},
   "source": [
    "Add a HistoryOfObesity_yn column to the original dataset where value is 'Yes' for all patient id's in the ObesePatientID (patients with a history of obesity) and 'No' otherwise"
   ]
  },
  {
   "cell_type": "code",
   "execution_count": 89,
   "id": "configured-stanley",
   "metadata": {},
   "outputs": [],
   "source": [
    "HIEdata['HistoryOfObesity_yn'] = np.where(HIEdata['patient_id'].isin(ObesePatientId),'Yes','No')"
   ]
  },
  {
   "cell_type": "markdown",
   "id": "smart-garbage",
   "metadata": {},
   "source": [
    "Check value counts"
   ]
  },
  {
   "cell_type": "code",
   "execution_count": 93,
   "id": "incoming-theology",
   "metadata": {
    "scrolled": true
   },
   "outputs": [
    {
     "data": {
      "text/plain": [
       "No     7792930\n",
       "Yes    2043081\n",
       "Name: HistoryOfObesity_yn, dtype: int64"
      ]
     },
     "execution_count": 93,
     "metadata": {},
     "output_type": "execute_result"
    }
   ],
   "source": [
    "HIEdata.HistoryOfObesity_yn.value_counts()"
   ]
  },
  {
   "cell_type": "markdown",
   "id": "wrapped-closure",
   "metadata": {},
   "source": [
    "Write data to csv"
   ]
  },
  {
   "cell_type": "code",
   "execution_count": 94,
   "id": "duplicate-complexity",
   "metadata": {},
   "outputs": [],
   "source": [
    "HIEdata.to_csv('HIEdata_HistoryOfObesity.csv')"
   ]
  }
 ],
 "metadata": {
  "kernelspec": {
   "display_name": "Python 3",
   "language": "python",
   "name": "python3"
  },
  "language_info": {
   "codemirror_mode": {
    "name": "ipython",
    "version": 3
   },
   "file_extension": ".py",
   "mimetype": "text/x-python",
   "name": "python",
   "nbconvert_exporter": "python",
   "pygments_lexer": "ipython3",
   "version": "3.8.2"
  }
 },
 "nbformat": 4,
 "nbformat_minor": 5
}
